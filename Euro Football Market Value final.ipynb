{
 "cells": [
  {
   "cell_type": "code",
   "execution_count": 1,
   "metadata": {},
   "outputs": [],
   "source": [
    "import numpy as np\n",
    "import pandas as pd\n",
    "import seaborn as sns\n",
    "import matplotlib.pyplot as plt\n",
    "%matplotlib inline"
   ]
  },
  {
   "cell_type": "code",
   "execution_count": 2,
   "metadata": {},
   "outputs": [],
   "source": [
    "df = pd.read_csv('/home/m/Documents/DS Bootcamp/European_Rosters.csv')"
   ]
  },
  {
   "cell_type": "code",
   "execution_count": 3,
   "metadata": {},
   "outputs": [
    {
     "data": {
      "text/html": [
       "<div>\n",
       "<style scoped>\n",
       "    .dataframe tbody tr th:only-of-type {\n",
       "        vertical-align: middle;\n",
       "    }\n",
       "\n",
       "    .dataframe tbody tr th {\n",
       "        vertical-align: top;\n",
       "    }\n",
       "\n",
       "    .dataframe thead th {\n",
       "        text-align: right;\n",
       "    }\n",
       "</style>\n",
       "<table border=\"1\" class=\"dataframe\">\n",
       "  <thead>\n",
       "    <tr style=\"text-align: right;\">\n",
       "      <th></th>\n",
       "      <th>FullName</th>\n",
       "      <th>PlayerName</th>\n",
       "      <th>Affiliation</th>\n",
       "      <th>League</th>\n",
       "      <th>Jersey</th>\n",
       "      <th>Birth Date</th>\n",
       "      <th>Age</th>\n",
       "      <th>birthPlace</th>\n",
       "      <th>Height (meters)</th>\n",
       "      <th>Citizenship 1</th>\n",
       "      <th>...</th>\n",
       "      <th>Youth Club 7</th>\n",
       "      <th>nationality</th>\n",
       "      <th>Games Played</th>\n",
       "      <th>Market Value (Euros)</th>\n",
       "      <th>Last Updated Date</th>\n",
       "      <th>Accumulated Transfer Sums (Euros)</th>\n",
       "      <th>Highest Market Value (Euros)</th>\n",
       "      <th>Highest Market Value Date</th>\n",
       "      <th>NationalTeamCaps</th>\n",
       "      <th>MostRecentInjury</th>\n",
       "    </tr>\n",
       "  </thead>\n",
       "  <tbody>\n",
       "    <tr>\n",
       "      <th>0</th>\n",
       "      <td>Anthony Mbu Agogo Modeste</td>\n",
       "      <td>Anthony Modeste</td>\n",
       "      <td>1. FC Koln</td>\n",
       "      <td>Bundesliga</td>\n",
       "      <td>#27</td>\n",
       "      <td>4/14/1988</td>\n",
       "      <td>31</td>\n",
       "      <td>Cannes</td>\n",
       "      <td>1.87</td>\n",
       "      <td>France</td>\n",
       "      <td>...</td>\n",
       "      <td>NaN</td>\n",
       "      <td>France</td>\n",
       "      <td>1</td>\n",
       "      <td>7000000.0</td>\n",
       "      <td>Last update: Jun 12, 2019</td>\n",
       "      <td>45700000</td>\n",
       "      <td>20000000.0</td>\n",
       "      <td>6/19/2017</td>\n",
       "      <td>16</td>\n",
       "      <td>NaN</td>\n",
       "    </tr>\n",
       "    <tr>\n",
       "      <th>1</th>\n",
       "      <td>NaN</td>\n",
       "      <td>Benno Schmitz</td>\n",
       "      <td>1. FC Koln</td>\n",
       "      <td>Bundesliga</td>\n",
       "      <td>#2</td>\n",
       "      <td>11/17/1994</td>\n",
       "      <td>25</td>\n",
       "      <td>München</td>\n",
       "      <td>1.82</td>\n",
       "      <td>Germany</td>\n",
       "      <td>...</td>\n",
       "      <td>NaN</td>\n",
       "      <td>Germany</td>\n",
       "      <td>0</td>\n",
       "      <td>1000000.0</td>\n",
       "      <td>Last update: Jun 12, 2019</td>\n",
       "      <td>1000000</td>\n",
       "      <td>1750000.0</td>\n",
       "      <td>3/22/2017</td>\n",
       "      <td>11</td>\n",
       "      <td>NaN</td>\n",
       "    </tr>\n",
       "    <tr>\n",
       "      <th>2</th>\n",
       "      <td>Birger Danny Verstraete</td>\n",
       "      <td>Birger Verstraete</td>\n",
       "      <td>1. FC Koln</td>\n",
       "      <td>Bundesliga</td>\n",
       "      <td>#8</td>\n",
       "      <td>4/16/1994</td>\n",
       "      <td>25</td>\n",
       "      <td>Oostende</td>\n",
       "      <td>1.75</td>\n",
       "      <td>Belgium</td>\n",
       "      <td>...</td>\n",
       "      <td>NaN</td>\n",
       "      <td>Belgium</td>\n",
       "      <td>0</td>\n",
       "      <td>4000000.0</td>\n",
       "      <td>Last update: Jun 10, 2019</td>\n",
       "      <td>4850000</td>\n",
       "      <td>4000000.0</td>\n",
       "      <td>9/11/2018</td>\n",
       "      <td>1</td>\n",
       "      <td>NaN</td>\n",
       "    </tr>\n",
       "    <tr>\n",
       "      <th>3</th>\n",
       "      <td>Brady Canfield Scott</td>\n",
       "      <td>Brady Scott</td>\n",
       "      <td>1. FC Koln</td>\n",
       "      <td>Bundesliga</td>\n",
       "      <td>#31</td>\n",
       "      <td>6/30/1999</td>\n",
       "      <td>20</td>\n",
       "      <td>Petaluma, California</td>\n",
       "      <td>1.87</td>\n",
       "      <td>United States</td>\n",
       "      <td>...</td>\n",
       "      <td>NaN</td>\n",
       "      <td>United States</td>\n",
       "      <td>14</td>\n",
       "      <td>100000.0</td>\n",
       "      <td>Last update: Jun 12, 2019</td>\n",
       "      <td>0</td>\n",
       "      <td>100000.0</td>\n",
       "      <td>8/3/2018</td>\n",
       "      <td>0</td>\n",
       "      <td>NaN</td>\n",
       "    </tr>\n",
       "    <tr>\n",
       "      <th>4</th>\n",
       "      <td>NaN</td>\n",
       "      <td>Christian Clemens</td>\n",
       "      <td>1. FC Koln</td>\n",
       "      <td>Bundesliga</td>\n",
       "      <td>#17</td>\n",
       "      <td>8/4/1991</td>\n",
       "      <td>28</td>\n",
       "      <td>Köln</td>\n",
       "      <td>1.79</td>\n",
       "      <td>Germany</td>\n",
       "      <td>...</td>\n",
       "      <td>NaN</td>\n",
       "      <td>Germany</td>\n",
       "      <td>15</td>\n",
       "      <td>1750000.0</td>\n",
       "      <td>Last update: Jun 12, 2019</td>\n",
       "      <td>7950000</td>\n",
       "      <td>3500000.0</td>\n",
       "      <td>6/29/2013</td>\n",
       "      <td>5</td>\n",
       "      <td>NaN</td>\n",
       "    </tr>\n",
       "  </tbody>\n",
       "</table>\n",
       "<p>5 rows × 35 columns</p>\n",
       "</div>"
      ],
      "text/plain": [
       "                    FullName         PlayerName Affiliation      League  \\\n",
       "0  Anthony Mbu Agogo Modeste    Anthony Modeste  1. FC Koln  Bundesliga   \n",
       "1                        NaN      Benno Schmitz  1. FC Koln  Bundesliga   \n",
       "2    Birger Danny Verstraete  Birger Verstraete  1. FC Koln  Bundesliga   \n",
       "3       Brady Canfield Scott        Brady Scott  1. FC Koln  Bundesliga   \n",
       "4                        NaN  Christian Clemens  1. FC Koln  Bundesliga   \n",
       "\n",
       "  Jersey  Birth Date  Age            birthPlace  Height (meters)  \\\n",
       "0    #27   4/14/1988   31                Cannes             1.87   \n",
       "1     #2  11/17/1994   25               München             1.82   \n",
       "2     #8   4/16/1994   25              Oostende             1.75   \n",
       "3    #31   6/30/1999   20  Petaluma, California             1.87   \n",
       "4    #17    8/4/1991   28                  Köln             1.79   \n",
       "\n",
       "   Citizenship 1  ... Youth Club 7    nationality Games Played  \\\n",
       "0         France  ...          NaN         France            1   \n",
       "1        Germany  ...          NaN        Germany            0   \n",
       "2        Belgium  ...          NaN        Belgium            0   \n",
       "3  United States  ...          NaN  United States           14   \n",
       "4        Germany  ...          NaN        Germany           15   \n",
       "\n",
       "  Market Value (Euros)          Last Updated Date  \\\n",
       "0            7000000.0  Last update: Jun 12, 2019   \n",
       "1            1000000.0  Last update: Jun 12, 2019   \n",
       "2            4000000.0  Last update: Jun 10, 2019   \n",
       "3             100000.0  Last update: Jun 12, 2019   \n",
       "4            1750000.0  Last update: Jun 12, 2019   \n",
       "\n",
       "  Accumulated Transfer Sums (Euros) Highest Market Value (Euros)  \\\n",
       "0                          45700000                   20000000.0   \n",
       "1                           1000000                    1750000.0   \n",
       "2                           4850000                    4000000.0   \n",
       "3                                 0                     100000.0   \n",
       "4                           7950000                    3500000.0   \n",
       "\n",
       "  Highest Market Value Date NationalTeamCaps MostRecentInjury  \n",
       "0                 6/19/2017               16              NaN  \n",
       "1                 3/22/2017               11              NaN  \n",
       "2                 9/11/2018                1              NaN  \n",
       "3                  8/3/2018                0              NaN  \n",
       "4                 6/29/2013                5              NaN  \n",
       "\n",
       "[5 rows x 35 columns]"
      ]
     },
     "execution_count": 3,
     "metadata": {},
     "output_type": "execute_result"
    }
   ],
   "source": [
    "df.head()"
   ]
  },
  {
   "cell_type": "code",
   "execution_count": 4,
   "metadata": {},
   "outputs": [
    {
     "data": {
      "text/plain": [
       "200000000.0"
      ]
     },
     "execution_count": 4,
     "metadata": {},
     "output_type": "execute_result"
    }
   ],
   "source": [
    "df['Market Value (Euros)'].max()"
   ]
  },
  {
   "cell_type": "code",
   "execution_count": 5,
   "metadata": {},
   "outputs": [
    {
     "data": {
      "text/plain": [
       "25000.0"
      ]
     },
     "execution_count": 5,
     "metadata": {},
     "output_type": "execute_result"
    }
   ],
   "source": [
    "df['Market Value (Euros)'].min()"
   ]
  },
  {
   "cell_type": "code",
   "execution_count": 6,
   "metadata": {},
   "outputs": [
    {
     "data": {
      "text/plain": [
       "<AxesSubplot:xlabel='League', ylabel='Market Value (Euros)'>"
      ]
     },
     "execution_count": 6,
     "metadata": {},
     "output_type": "execute_result"
    },
    {
     "data": {
      "image/png": "[encoded data removed]",
      "text/plain": [
       "<Figure size 864x576 with 1 Axes>"
      ]
     },
     "metadata": {
      "needs_background": "light"
     },
     "output_type": "display_data"
    }
   ],
   "source": [
    "plt.figure(figsize=(12,8))\n",
    "plt.axis([0, 10, 0, 25000000])\n",
    "sns.barplot(x='League', y='Market Value (Euros)', data=df, palette='rainbow')"
   ]
  },
  {
   "cell_type": "markdown",
   "metadata": {},
   "source": [
    "Premier league has the maximum players with top market value followed by LaLiga and Serie A"
   ]
  },
  {
   "cell_type": "code",
   "execution_count": 7,
   "metadata": {},
   "outputs": [
    {
     "data": {
      "text/html": [
       "<div>\n",
       "<style scoped>\n",
       "    .dataframe tbody tr th:only-of-type {\n",
       "        vertical-align: middle;\n",
       "    }\n",
       "\n",
       "    .dataframe tbody tr th {\n",
       "        vertical-align: top;\n",
       "    }\n",
       "\n",
       "    .dataframe thead th {\n",
       "        text-align: right;\n",
       "    }\n",
       "</style>\n",
       "<table border=\"1\" class=\"dataframe\">\n",
       "  <thead>\n",
       "    <tr style=\"text-align: right;\">\n",
       "      <th></th>\n",
       "      <th>Age</th>\n",
       "      <th>Height (meters)</th>\n",
       "      <th>Games Played</th>\n",
       "      <th>Market Value (Euros)</th>\n",
       "      <th>Accumulated Transfer Sums (Euros)</th>\n",
       "      <th>Highest Market Value (Euros)</th>\n",
       "      <th>NationalTeamCaps</th>\n",
       "    </tr>\n",
       "  </thead>\n",
       "  <tbody>\n",
       "    <tr>\n",
       "      <th>count</th>\n",
       "      <td>4308.000000</td>\n",
       "      <td>4225.000000</td>\n",
       "      <td>4308.000000</td>\n",
       "      <td>4.289000e+03</td>\n",
       "      <td>4.308000e+03</td>\n",
       "      <td>4.091000e+03</td>\n",
       "      <td>4308.000000</td>\n",
       "    </tr>\n",
       "    <tr>\n",
       "      <th>mean</th>\n",
       "      <td>25.451718</td>\n",
       "      <td>1.825931</td>\n",
       "      <td>2.518802</td>\n",
       "      <td>7.714625e+06</td>\n",
       "      <td>7.812063e+06</td>\n",
       "      <td>9.992899e+06</td>\n",
       "      <td>11.292943</td>\n",
       "    </tr>\n",
       "    <tr>\n",
       "      <th>std</th>\n",
       "      <td>4.429018</td>\n",
       "      <td>0.066534</td>\n",
       "      <td>10.159712</td>\n",
       "      <td>1.474037e+07</td>\n",
       "      <td>1.741673e+07</td>\n",
       "      <td>1.656523e+07</td>\n",
       "      <td>20.133501</td>\n",
       "    </tr>\n",
       "    <tr>\n",
       "      <th>min</th>\n",
       "      <td>16.000000</td>\n",
       "      <td>1.590000</td>\n",
       "      <td>0.000000</td>\n",
       "      <td>2.500000e+04</td>\n",
       "      <td>0.000000e+00</td>\n",
       "      <td>2.500000e+04</td>\n",
       "      <td>0.000000</td>\n",
       "    </tr>\n",
       "    <tr>\n",
       "      <th>25%</th>\n",
       "      <td>22.000000</td>\n",
       "      <td>1.780000</td>\n",
       "      <td>0.000000</td>\n",
       "      <td>7.000000e+05</td>\n",
       "      <td>0.000000e+00</td>\n",
       "      <td>1.200000e+06</td>\n",
       "      <td>0.000000</td>\n",
       "    </tr>\n",
       "    <tr>\n",
       "      <th>50%</th>\n",
       "      <td>25.000000</td>\n",
       "      <td>1.830000</td>\n",
       "      <td>0.000000</td>\n",
       "      <td>2.500000e+06</td>\n",
       "      <td>1.000000e+06</td>\n",
       "      <td>4.000000e+06</td>\n",
       "      <td>3.000000</td>\n",
       "    </tr>\n",
       "    <tr>\n",
       "      <th>75%</th>\n",
       "      <td>29.000000</td>\n",
       "      <td>1.870000</td>\n",
       "      <td>2.000000</td>\n",
       "      <td>8.000000e+06</td>\n",
       "      <td>7.957500e+06</td>\n",
       "      <td>1.200000e+07</td>\n",
       "      <td>12.000000</td>\n",
       "    </tr>\n",
       "    <tr>\n",
       "      <th>max</th>\n",
       "      <td>42.000000</td>\n",
       "      <td>2.040000</td>\n",
       "      <td>255.000000</td>\n",
       "      <td>2.000000e+08</td>\n",
       "      <td>3.102000e+08</td>\n",
       "      <td>2.000000e+08</td>\n",
       "      <td>176.000000</td>\n",
       "    </tr>\n",
       "  </tbody>\n",
       "</table>\n",
       "</div>"
      ],
      "text/plain": [
       "               Age  Height (meters)  Games Played  Market Value (Euros)  \\\n",
       "count  4308.000000      4225.000000   4308.000000          4.289000e+03   \n",
       "mean     25.451718         1.825931      2.518802          7.714625e+06   \n",
       "std       4.429018         0.066534     10.159712          1.474037e+07   \n",
       "min      16.000000         1.590000      0.000000          2.500000e+04   \n",
       "25%      22.000000         1.780000      0.000000          7.000000e+05   \n",
       "50%      25.000000         1.830000      0.000000          2.500000e+06   \n",
       "75%      29.000000         1.870000      2.000000          8.000000e+06   \n",
       "max      42.000000         2.040000    255.000000          2.000000e+08   \n",
       "\n",
       "       Accumulated Transfer Sums (Euros)  Highest Market Value (Euros)  \\\n",
       "count                       4.308000e+03                  4.091000e+03   \n",
       "mean                        7.812063e+06                  9.992899e+06   \n",
       "std                         1.741673e+07                  1.656523e+07   \n",
       "min                         0.000000e+00                  2.500000e+04   \n",
       "25%                         0.000000e+00                  1.200000e+06   \n",
       "50%                         1.000000e+06                  4.000000e+06   \n",
       "75%                         7.957500e+06                  1.200000e+07   \n",
       "max                         3.102000e+08                  2.000000e+08   \n",
       "\n",
       "       NationalTeamCaps  \n",
       "count       4308.000000  \n",
       "mean          11.292943  \n",
       "std           20.133501  \n",
       "min            0.000000  \n",
       "25%            0.000000  \n",
       "50%            3.000000  \n",
       "75%           12.000000  \n",
       "max          176.000000  "
      ]
     },
     "execution_count": 7,
     "metadata": {},
     "output_type": "execute_result"
    }
   ],
   "source": [
    "df.describe()"
   ]
  },
  {
   "cell_type": "code",
   "execution_count": 8,
   "metadata": {},
   "outputs": [
    {
     "name": "stdout",
     "output_type": "stream",
     "text": [
      "<class 'pandas.core.frame.DataFrame'>\n",
      "RangeIndex: 4308 entries, 0 to 4307\n",
      "Data columns (total 35 columns):\n",
      " #   Column                             Non-Null Count  Dtype  \n",
      "---  ------                             --------------  -----  \n",
      " 0   FullName                           2052 non-null   object \n",
      " 1   PlayerName                         4308 non-null   object \n",
      " 2   Affiliation                        4308 non-null   object \n",
      " 3   League                             4308 non-null   object \n",
      " 4   Jersey                             4239 non-null   object \n",
      " 5   Birth Date                         4308 non-null   object \n",
      " 6   Age                                4308 non-null   int64  \n",
      " 7   birthPlace                         4150 non-null   object \n",
      " 8   Height (meters)                    4225 non-null   float64\n",
      " 9   Citizenship 1                      4298 non-null   object \n",
      " 10  Citizenship 2                      742 non-null    object \n",
      " 11  Position                           4240 non-null   object \n",
      " 12  Position 2                         4307 non-null   object \n",
      " 13  Foot                               4098 non-null   object \n",
      " 14  Agent                              3619 non-null   object \n",
      " 15  JoinedClub                         2438 non-null   object \n",
      " 16  LastExtension                      1418 non-null   object \n",
      " 17  ContractExpiration                 3931 non-null   object \n",
      " 18  PlayerSponsor                      966 non-null    object \n",
      " 19  Youth Club 1                       3005 non-null   object \n",
      " 20  Youth Club 2                       1882 non-null   object \n",
      " 21  Youth Club 3                       875 non-null    object \n",
      " 22  Youth Club 4                       309 non-null    object \n",
      " 23  Youth Club 5                       112 non-null    object \n",
      " 24  Youth Club 6                       35 non-null     object \n",
      " 25  Youth Club 7                       8 non-null      object \n",
      " 26  nationality                        4308 non-null   object \n",
      " 27  Games Played                       4308 non-null   int64  \n",
      " 28  Market Value (Euros)               4289 non-null   float64\n",
      " 29  Last Updated Date                  4289 non-null   object \n",
      " 30  Accumulated Transfer Sums (Euros)  4308 non-null   int64  \n",
      " 31  Highest Market Value (Euros)       4091 non-null   float64\n",
      " 32  Highest Market Value Date          4091 non-null   object \n",
      " 33  NationalTeamCaps                   4308 non-null   int64  \n",
      " 34  MostRecentInjury                   471 non-null    object \n",
      "dtypes: float64(3), int64(4), object(28)\n",
      "memory usage: 1.2+ MB\n"
     ]
    }
   ],
   "source": [
    "df.info()"
   ]
  },
  {
   "cell_type": "code",
   "execution_count": 9,
   "metadata": {},
   "outputs": [],
   "source": [
    "#Differentiating Premier League data from the rest of the league\n",
    "\n",
    "\n",
    "df_pl = df[df['League']=='Premier League']"
   ]
  },
  {
   "cell_type": "code",
   "execution_count": 10,
   "metadata": {},
   "outputs": [],
   "source": [
    "#Setting index as Player Names\n",
    "df_pl = df_pl.set_index('PlayerName')"
   ]
  },
  {
   "cell_type": "code",
   "execution_count": 11,
   "metadata": {},
   "outputs": [
    {
     "data": {
      "text/plain": [
       "'Mohamed Salah'"
      ]
     },
     "execution_count": 11,
     "metadata": {},
     "output_type": "execute_result"
    }
   ],
   "source": [
    "#Finding out the name of the player with the maximum transfer value\n",
    "\n",
    "df_pl['Market Value (Euros)'].idxmax()"
   ]
  },
  {
   "cell_type": "markdown",
   "metadata": {},
   "source": [
    "Mohamed Salah is the most expensive player from the Premier League"
   ]
  },
  {
   "cell_type": "code",
   "execution_count": 12,
   "metadata": {},
   "outputs": [
    {
     "data": {
      "text/plain": [
       "'Man City'"
      ]
     },
     "execution_count": 12,
     "metadata": {},
     "output_type": "execute_result"
    }
   ],
   "source": [
    "df.groupby('Affiliation').mean()['Market Value (Euros)'].idxmax()"
   ]
  },
  {
   "cell_type": "markdown",
   "metadata": {},
   "source": [
    "Man City is the most valueable club in Europe"
   ]
  },
  {
   "cell_type": "code",
   "execution_count": 13,
   "metadata": {},
   "outputs": [
    {
     "data": {
      "text/plain": [
       "'RKC Waalwijk'"
      ]
     },
     "execution_count": 13,
     "metadata": {},
     "output_type": "execute_result"
    }
   ],
   "source": [
    "df.groupby('Affiliation').mean()['Market Value (Euros)'].idxmin()"
   ]
  },
  {
   "cell_type": "markdown",
   "metadata": {},
   "source": [
    "RKC Waalwijk is the least valuable club in Europe"
   ]
  },
  {
   "cell_type": "markdown",
   "metadata": {},
   "source": [
    "**The top 5 most valuable clubs in Europe**"
   ]
  },
  {
   "cell_type": "code",
   "execution_count": 14,
   "metadata": {},
   "outputs": [
    {
     "data": {
      "text/plain": [
       "Affiliation\n",
       "Man City        1.277500e+09\n",
       "Real Madrid     1.189500e+09\n",
       "FC Barcelona    1.176000e+09\n",
       "Liverpool       1.072750e+09\n",
       "Paris SG        1.050650e+09\n",
       "Name: Market Value (Euros), dtype: float64"
      ]
     },
     "execution_count": 14,
     "metadata": {},
     "output_type": "execute_result"
    }
   ],
   "source": [
    "df.groupby('Affiliation').sum()['Market Value (Euros)'].sort_values(ascending=False).head(5)"
   ]
  },
  {
   "cell_type": "code",
   "execution_count": 15,
   "metadata": {},
   "outputs": [
    {
     "data": {
      "text/plain": [
       "Affiliation\n",
       "AC Milan           5.050000e+08\n",
       "AS Roma            4.224000e+08\n",
       "Ajax               3.759000e+08\n",
       "Arsenal            6.907500e+08\n",
       "Atalanta           2.651000e+08\n",
       "Atletico Madrid    8.725000e+08\n",
       "Bay. Leverkusen    4.152500e+08\n",
       "Bayern Munich      8.826500e+08\n",
       "Benfica            3.200000e+08\n",
       "Bor. Dortmund      6.405000e+08\n",
       "Bor. M'gladbach    2.705000e+08\n",
       "Bournemouth        3.342500e+08\n",
       "Chelsea            8.070000e+08\n",
       "Everton            5.060000e+08\n",
       "FC Barcelona       1.176000e+09\n",
       "FC Porto           2.624000e+08\n",
       "Fiorentina         2.592000e+08\n",
       "Inter              5.673000e+08\n",
       "Juventus           8.375000e+08\n",
       "Lazio              3.014500e+08\n",
       "Leicester          4.102500e+08\n",
       "Liverpool          1.072750e+09\n",
       "Man City           1.277500e+09\n",
       "Man Utd            7.532500e+08\n",
       "Monaco             3.542500e+08\n",
       "Newcastle          2.735750e+08\n",
       "Olympique Lyon     3.677000e+08\n",
       "Paris SG           1.050650e+09\n",
       "RB Leipzig         5.444000e+08\n",
       "Real Betis         2.925000e+08\n",
       "Real Madrid        1.189500e+09\n",
       "Real Sociedad      3.098000e+08\n",
       "SSC Napoli         6.533000e+08\n",
       "Sevilla FC         2.832000e+08\n",
       "Spurs              9.850000e+08\n",
       "Valencia           4.955000e+08\n",
       "West Ham           3.487500e+08\n",
       "Wolves             3.337500e+08\n",
       "Name: Market Value (Euros), dtype: float64"
      ]
     },
     "execution_count": 15,
     "metadata": {},
     "output_type": "execute_result"
    },
    {
     "data": {
      "text/plain": [
       "<Figure size 1080x504 with 0 Axes>"
      ]
     },
     "metadata": {},
     "output_type": "display_data"
    }
   ],
   "source": [
    "#Find out clubs worth more than 250 million euros\n",
    "cde = df.groupby('Affiliation').sum()\n",
    "plt.figure(figsize=(15,7))\n",
    "cde[cde['Market Value (Euros)'] > 250000000]['Market Value (Euros)']\n"
   ]
  },
  {
   "cell_type": "markdown",
   "metadata": {},
   "source": [
    "**Incredible! The difference in team market value between top club in Europe is drastic as well. Teams such as Newcastle (270 million) & Manchester City (1.27 billion) could play eachother any given week**"
   ]
  },
  {
   "cell_type": "code",
   "execution_count": 16,
   "metadata": {},
   "outputs": [
    {
     "data": {
      "text/plain": [
       "<AxesSubplot:xlabel='Affiliation'>"
      ]
     },
     "execution_count": 16,
     "metadata": {},
     "output_type": "execute_result"
    },
    {
     "data": {
      "image/png": "[encoded data removed]",
      "text/plain": [
       "<Figure size 1080x504 with 1 Axes>"
      ]
     },
     "metadata": {
      "needs_background": "light"
     },
     "output_type": "display_data"
    }
   ],
   "source": [
    "#Let's plot this data \n",
    "plt.figure(figsize=(15,7))\n",
    "cde[cde['Market Value (Euros)'] > 250000000]['Market Value (Euros)'].plot(kind='bar')"
   ]
  },
  {
   "cell_type": "code",
   "execution_count": 17,
   "metadata": {},
   "outputs": [
    {
     "data": {
      "text/plain": [
       "<AxesSubplot:>"
      ]
     },
     "execution_count": 17,
     "metadata": {},
     "output_type": "execute_result"
    },
    {
     "data": {
      "image/png": "[encoded data removed]",
      "text/plain": [
       "<Figure size 432x288 with 2 Axes>"
      ]
     },
     "metadata": {
      "needs_background": "light"
     },
     "output_type": "display_data"
    }
   ],
   "source": [
    "#Transfer market value is highly correlated to highest market value and accumulated transfer sums\n",
    "fg= df.corr()\n",
    "sns.heatmap(fg, cmap='viridis')"
   ]
  },
  {
   "cell_type": "code",
   "execution_count": 18,
   "metadata": {},
   "outputs": [
    {
     "data": {
      "text/plain": [
       "<seaborn.axisgrid.FacetGrid at 0x7fd083281cd0>"
      ]
     },
     "execution_count": 18,
     "metadata": {},
     "output_type": "execute_result"
    },
    {
     "data": {
      "image/png": "[encoded data removed]",
      "text/plain": [
       "<Figure size 360x360 with 1 Axes>"
      ]
     },
     "metadata": {
      "needs_background": "light"
     },
     "output_type": "display_data"
    }
   ],
   "source": [
    "sns.lmplot(x='Market Value (Euros)', y='Accumulated Transfer Sums (Euros)', data=df)"
   ]
  },
  {
   "cell_type": "markdown",
   "metadata": {},
   "source": [
    "**Finding out which club contains the most valuable players in Europe's top 5 leagues**"
   ]
  },
  {
   "cell_type": "code",
   "execution_count": 19,
   "metadata": {},
   "outputs": [
    {
     "data": {
      "text/plain": [
       "<AxesSubplot:xlabel='Market Value (Euros)', ylabel='Affiliation'>"
      ]
     },
     "execution_count": 19,
     "metadata": {},
     "output_type": "execute_result"
    },
    {
     "data": {
      "image/png": "[encoded data removed]",
      "text/plain": [
       "<Figure size 1080x576 with 1 Axes>"
      ]
     },
     "metadata": {
      "needs_background": "light"
     },
     "output_type": "display_data"
    }
   ],
   "source": [
    "#Bundesliga\n",
    "plt.figure(figsize=(15,8))\n",
    "sns.barplot(y='Affiliation', x='Market Value (Euros)', data=df[df['League']=='Bundesliga'], ci=None)"
   ]
  },
  {
   "cell_type": "code",
   "execution_count": 20,
   "metadata": {},
   "outputs": [
    {
     "data": {
      "text/plain": [
       "<AxesSubplot:xlabel='Market Value (Euros)', ylabel='Affiliation'>"
      ]
     },
     "execution_count": 20,
     "metadata": {},
     "output_type": "execute_result"
    },
    {
     "data": {
      "image/png": "[encoded data removed]",
      "text/plain": [
       "<Figure size 1080x576 with 1 Axes>"
      ]
     },
     "metadata": {
      "needs_background": "light"
     },
     "output_type": "display_data"
    }
   ],
   "source": [
    "#Premier League\n",
    "plt.figure(figsize=(15,8))\n",
    "sns.barplot(y='Affiliation', x='Market Value (Euros)', data=df[df['League']=='Premier League'], ci=None)"
   ]
  },
  {
   "cell_type": "code",
   "execution_count": 21,
   "metadata": {},
   "outputs": [
    {
     "data": {
      "text/plain": [
       "<AxesSubplot:xlabel='Market Value (Euros)', ylabel='Affiliation'>"
      ]
     },
     "execution_count": 21,
     "metadata": {},
     "output_type": "execute_result"
    },
    {
     "data": {
      "image/png": "[encoded data removed]",
      "text/plain": [
       "<Figure size 1080x576 with 1 Axes>"
      ]
     },
     "metadata": {
      "needs_background": "light"
     },
     "output_type": "display_data"
    }
   ],
   "source": [
    "#Serie A\n",
    "plt.figure(figsize=(15,8))\n",
    "sns.barplot(y='Affiliation', x='Market Value (Euros)', data=df[df['League']=='Serie A'], ci=None)"
   ]
  },
  {
   "cell_type": "code",
   "execution_count": 22,
   "metadata": {},
   "outputs": [
    {
     "data": {
      "text/plain": [
       "<AxesSubplot:xlabel='Market Value (Euros)', ylabel='Affiliation'>"
      ]
     },
     "execution_count": 22,
     "metadata": {},
     "output_type": "execute_result"
    },
    {
     "data": {
      "image/png": "[encoded data removed]",
      "text/plain": [
       "<Figure size 1080x576 with 1 Axes>"
      ]
     },
     "metadata": {
      "needs_background": "light"
     },
     "output_type": "display_data"
    }
   ],
   "source": [
    "#La Liga\n",
    "plt.figure(figsize=(15,8))\n",
    "sns.barplot(y='Affiliation', x='Market Value (Euros)', data=df[df['League']=='LaLiga'], ci=None)"
   ]
  },
  {
   "cell_type": "code",
   "execution_count": 23,
   "metadata": {},
   "outputs": [
    {
     "data": {
      "text/plain": [
       "<AxesSubplot:xlabel='Market Value (Euros)', ylabel='Affiliation'>"
      ]
     },
     "execution_count": 23,
     "metadata": {},
     "output_type": "execute_result"
    },
    {
     "data": {
      "image/png": "[encoded data removed]",
      "text/plain": [
       "<Figure size 1080x576 with 1 Axes>"
      ]
     },
     "metadata": {
      "needs_background": "light"
     },
     "output_type": "display_data"
    }
   ],
   "source": [
    "#Ligue 1\n",
    "plt.figure(figsize=(15,8))\n",
    "sns.barplot(y='Affiliation', x='Market Value (Euros)', data=df[df['League']=='Ligue 1'], ci=None)"
   ]
  },
  {
   "cell_type": "markdown",
   "metadata": {},
   "source": [
    "**You can see how market value is inequally distributed all the leagues but this difference is more visible in the leagues like La Liga and Ligue 1**"
   ]
  },
  {
   "cell_type": "code",
   "execution_count": 24,
   "metadata": {},
   "outputs": [
    {
     "data": {
      "text/plain": [
       "'Kylian Mbappe'"
      ]
     },
     "execution_count": 24,
     "metadata": {},
     "output_type": "execute_result"
    }
   ],
   "source": [
    "#Now lets's find out the most expensive player\n",
    "\n",
    "df.groupby('PlayerName')['Market Value (Euros)'].sum().idxmax()"
   ]
  },
  {
   "cell_type": "code",
   "execution_count": 25,
   "metadata": {},
   "outputs": [
    {
     "data": {
      "text/plain": [
       "'Boris Essele'"
      ]
     },
     "execution_count": 25,
     "metadata": {},
     "output_type": "execute_result"
    }
   ],
   "source": [
    "#The least expensive player\n",
    "\n",
    "df.groupby('PlayerName')['Market Value (Euros)'].sum().idxmin()"
   ]
  },
  {
   "cell_type": "markdown",
   "metadata": {},
   "source": [
    "# Getting rid of null values and cleaning data"
   ]
  },
  {
   "cell_type": "code",
   "execution_count": 26,
   "metadata": {},
   "outputs": [
    {
     "data": {
      "text/html": [
       "<div>\n",
       "<style scoped>\n",
       "    .dataframe tbody tr th:only-of-type {\n",
       "        vertical-align: middle;\n",
       "    }\n",
       "\n",
       "    .dataframe tbody tr th {\n",
       "        vertical-align: top;\n",
       "    }\n",
       "\n",
       "    .dataframe thead th {\n",
       "        text-align: right;\n",
       "    }\n",
       "</style>\n",
       "<table border=\"1\" class=\"dataframe\">\n",
       "  <thead>\n",
       "    <tr style=\"text-align: right;\">\n",
       "      <th></th>\n",
       "      <th>FullName</th>\n",
       "      <th>PlayerName</th>\n",
       "      <th>Affiliation</th>\n",
       "      <th>League</th>\n",
       "      <th>Jersey</th>\n",
       "      <th>Birth Date</th>\n",
       "      <th>Age</th>\n",
       "      <th>birthPlace</th>\n",
       "      <th>Height (meters)</th>\n",
       "      <th>Citizenship 1</th>\n",
       "      <th>...</th>\n",
       "      <th>Youth Club 7</th>\n",
       "      <th>nationality</th>\n",
       "      <th>Games Played</th>\n",
       "      <th>Market Value (Euros)</th>\n",
       "      <th>Last Updated Date</th>\n",
       "      <th>Accumulated Transfer Sums (Euros)</th>\n",
       "      <th>Highest Market Value (Euros)</th>\n",
       "      <th>Highest Market Value Date</th>\n",
       "      <th>NationalTeamCaps</th>\n",
       "      <th>MostRecentInjury</th>\n",
       "    </tr>\n",
       "  </thead>\n",
       "  <tbody>\n",
       "    <tr>\n",
       "      <th>0</th>\n",
       "      <td>Anthony Mbu Agogo Modeste</td>\n",
       "      <td>Anthony Modeste</td>\n",
       "      <td>1. FC Koln</td>\n",
       "      <td>Bundesliga</td>\n",
       "      <td>#27</td>\n",
       "      <td>4/14/1988</td>\n",
       "      <td>31</td>\n",
       "      <td>Cannes</td>\n",
       "      <td>1.87</td>\n",
       "      <td>France</td>\n",
       "      <td>...</td>\n",
       "      <td>NaN</td>\n",
       "      <td>France</td>\n",
       "      <td>1</td>\n",
       "      <td>7000000.0</td>\n",
       "      <td>Last update: Jun 12, 2019</td>\n",
       "      <td>45700000</td>\n",
       "      <td>20000000.0</td>\n",
       "      <td>6/19/2017</td>\n",
       "      <td>16</td>\n",
       "      <td>NaN</td>\n",
       "    </tr>\n",
       "    <tr>\n",
       "      <th>1</th>\n",
       "      <td>NaN</td>\n",
       "      <td>Benno Schmitz</td>\n",
       "      <td>1. FC Koln</td>\n",
       "      <td>Bundesliga</td>\n",
       "      <td>#2</td>\n",
       "      <td>11/17/1994</td>\n",
       "      <td>25</td>\n",
       "      <td>München</td>\n",
       "      <td>1.82</td>\n",
       "      <td>Germany</td>\n",
       "      <td>...</td>\n",
       "      <td>NaN</td>\n",
       "      <td>Germany</td>\n",
       "      <td>0</td>\n",
       "      <td>1000000.0</td>\n",
       "      <td>Last update: Jun 12, 2019</td>\n",
       "      <td>1000000</td>\n",
       "      <td>1750000.0</td>\n",
       "      <td>3/22/2017</td>\n",
       "      <td>11</td>\n",
       "      <td>NaN</td>\n",
       "    </tr>\n",
       "    <tr>\n",
       "      <th>2</th>\n",
       "      <td>Birger Danny Verstraete</td>\n",
       "      <td>Birger Verstraete</td>\n",
       "      <td>1. FC Koln</td>\n",
       "      <td>Bundesliga</td>\n",
       "      <td>#8</td>\n",
       "      <td>4/16/1994</td>\n",
       "      <td>25</td>\n",
       "      <td>Oostende</td>\n",
       "      <td>1.75</td>\n",
       "      <td>Belgium</td>\n",
       "      <td>...</td>\n",
       "      <td>NaN</td>\n",
       "      <td>Belgium</td>\n",
       "      <td>0</td>\n",
       "      <td>4000000.0</td>\n",
       "      <td>Last update: Jun 10, 2019</td>\n",
       "      <td>4850000</td>\n",
       "      <td>4000000.0</td>\n",
       "      <td>9/11/2018</td>\n",
       "      <td>1</td>\n",
       "      <td>NaN</td>\n",
       "    </tr>\n",
       "    <tr>\n",
       "      <th>3</th>\n",
       "      <td>Brady Canfield Scott</td>\n",
       "      <td>Brady Scott</td>\n",
       "      <td>1. FC Koln</td>\n",
       "      <td>Bundesliga</td>\n",
       "      <td>#31</td>\n",
       "      <td>6/30/1999</td>\n",
       "      <td>20</td>\n",
       "      <td>Petaluma, California</td>\n",
       "      <td>1.87</td>\n",
       "      <td>United States</td>\n",
       "      <td>...</td>\n",
       "      <td>NaN</td>\n",
       "      <td>United States</td>\n",
       "      <td>14</td>\n",
       "      <td>100000.0</td>\n",
       "      <td>Last update: Jun 12, 2019</td>\n",
       "      <td>0</td>\n",
       "      <td>100000.0</td>\n",
       "      <td>8/3/2018</td>\n",
       "      <td>0</td>\n",
       "      <td>NaN</td>\n",
       "    </tr>\n",
       "    <tr>\n",
       "      <th>4</th>\n",
       "      <td>NaN</td>\n",
       "      <td>Christian Clemens</td>\n",
       "      <td>1. FC Koln</td>\n",
       "      <td>Bundesliga</td>\n",
       "      <td>#17</td>\n",
       "      <td>8/4/1991</td>\n",
       "      <td>28</td>\n",
       "      <td>Köln</td>\n",
       "      <td>1.79</td>\n",
       "      <td>Germany</td>\n",
       "      <td>...</td>\n",
       "      <td>NaN</td>\n",
       "      <td>Germany</td>\n",
       "      <td>15</td>\n",
       "      <td>1750000.0</td>\n",
       "      <td>Last update: Jun 12, 2019</td>\n",
       "      <td>7950000</td>\n",
       "      <td>3500000.0</td>\n",
       "      <td>6/29/2013</td>\n",
       "      <td>5</td>\n",
       "      <td>NaN</td>\n",
       "    </tr>\n",
       "  </tbody>\n",
       "</table>\n",
       "<p>5 rows × 35 columns</p>\n",
       "</div>"
      ],
      "text/plain": [
       "                    FullName         PlayerName Affiliation      League  \\\n",
       "0  Anthony Mbu Agogo Modeste    Anthony Modeste  1. FC Koln  Bundesliga   \n",
       "1                        NaN      Benno Schmitz  1. FC Koln  Bundesliga   \n",
       "2    Birger Danny Verstraete  Birger Verstraete  1. FC Koln  Bundesliga   \n",
       "3       Brady Canfield Scott        Brady Scott  1. FC Koln  Bundesliga   \n",
       "4                        NaN  Christian Clemens  1. FC Koln  Bundesliga   \n",
       "\n",
       "  Jersey  Birth Date  Age            birthPlace  Height (meters)  \\\n",
       "0    #27   4/14/1988   31                Cannes             1.87   \n",
       "1     #2  11/17/1994   25               München             1.82   \n",
       "2     #8   4/16/1994   25              Oostende             1.75   \n",
       "3    #31   6/30/1999   20  Petaluma, California             1.87   \n",
       "4    #17    8/4/1991   28                  Köln             1.79   \n",
       "\n",
       "   Citizenship 1  ... Youth Club 7    nationality Games Played  \\\n",
       "0         France  ...          NaN         France            1   \n",
       "1        Germany  ...          NaN        Germany            0   \n",
       "2        Belgium  ...          NaN        Belgium            0   \n",
       "3  United States  ...          NaN  United States           14   \n",
       "4        Germany  ...          NaN        Germany           15   \n",
       "\n",
       "  Market Value (Euros)          Last Updated Date  \\\n",
       "0            7000000.0  Last update: Jun 12, 2019   \n",
       "1            1000000.0  Last update: Jun 12, 2019   \n",
       "2            4000000.0  Last update: Jun 10, 2019   \n",
       "3             100000.0  Last update: Jun 12, 2019   \n",
       "4            1750000.0  Last update: Jun 12, 2019   \n",
       "\n",
       "  Accumulated Transfer Sums (Euros) Highest Market Value (Euros)  \\\n",
       "0                          45700000                   20000000.0   \n",
       "1                           1000000                    1750000.0   \n",
       "2                           4850000                    4000000.0   \n",
       "3                                 0                     100000.0   \n",
       "4                           7950000                    3500000.0   \n",
       "\n",
       "  Highest Market Value Date NationalTeamCaps MostRecentInjury  \n",
       "0                 6/19/2017               16              NaN  \n",
       "1                 3/22/2017               11              NaN  \n",
       "2                 9/11/2018                1              NaN  \n",
       "3                  8/3/2018                0              NaN  \n",
       "4                 6/29/2013                5              NaN  \n",
       "\n",
       "[5 rows x 35 columns]"
      ]
     },
     "execution_count": 26,
     "metadata": {},
     "output_type": "execute_result"
    }
   ],
   "source": [
    "df.head()"
   ]
  },
  {
   "cell_type": "code",
   "execution_count": 27,
   "metadata": {},
   "outputs": [
    {
     "data": {
      "text/plain": [
       "FullName                             2256\n",
       "PlayerName                              0\n",
       "Affiliation                             0\n",
       "League                                  0\n",
       "Jersey                                 69\n",
       "Birth Date                              0\n",
       "Age                                     0\n",
       "birthPlace                            158\n",
       "Height (meters)                        83\n",
       "Citizenship 1                          10\n",
       "Citizenship 2                        3566\n",
       "Position                               68\n",
       "Position 2                              1\n",
       "Foot                                  210\n",
       "Agent                                 689\n",
       "JoinedClub                           1870\n",
       "LastExtension                        2890\n",
       "ContractExpiration                    377\n",
       "PlayerSponsor                        3342\n",
       "Youth Club 1                         1303\n",
       "Youth Club 2                         2426\n",
       "Youth Club 3                         3433\n",
       "Youth Club 4                         3999\n",
       "Youth Club 5                         4196\n",
       "Youth Club 6                         4273\n",
       "Youth Club 7                         4300\n",
       "nationality                             0\n",
       "Games Played                            0\n",
       "Market Value (Euros)                   19\n",
       "Last Updated Date                      19\n",
       "Accumulated Transfer Sums (Euros)       0\n",
       "Highest Market Value (Euros)          217\n",
       "Highest Market Value Date             217\n",
       "NationalTeamCaps                        0\n",
       "MostRecentInjury                     3837\n",
       "dtype: int64"
      ]
     },
     "execution_count": 27,
     "metadata": {},
     "output_type": "execute_result"
    }
   ],
   "source": [
    "#Trying to find out the null values\n",
    "df.isnull().sum()"
   ]
  },
  {
   "cell_type": "code",
   "execution_count": 28,
   "metadata": {},
   "outputs": [
    {
     "data": {
      "text/plain": [
       "Age                                 -0.006263\n",
       "Height (meters)                     -0.050873\n",
       "Games Played                        -0.004245\n",
       "Market Value (Euros)                 1.000000\n",
       "Accumulated Transfer Sums (Euros)    0.624004\n",
       "Highest Market Value (Euros)         0.960081\n",
       "NationalTeamCaps                     0.348249\n",
       "Name: Market Value (Euros), dtype: float64"
      ]
     },
     "execution_count": 28,
     "metadata": {},
     "output_type": "execute_result"
    }
   ],
   "source": [
    "df.corr()['Market Value (Euros)']"
   ]
  },
  {
   "cell_type": "code",
   "execution_count": 29,
   "metadata": {},
   "outputs": [
    {
     "data": {
      "text/plain": [
       "<AxesSubplot:xlabel='Market Value (Euros)', ylabel='Highest Market Value (Euros)'>"
      ]
     },
     "execution_count": 29,
     "metadata": {},
     "output_type": "execute_result"
    },
    {
     "data": {
      "image/png": "[encoded data removed]",
      "text/plain": [
       "<Figure size 432x288 with 1 Axes>"
      ]
     },
     "metadata": {
      "needs_background": "light"
     },
     "output_type": "display_data"
    }
   ],
   "source": [
    "sns.scatterplot(x='Market Value (Euros)', y ='Highest Market Value (Euros)', data=df)"
   ]
  },
  {
   "cell_type": "code",
   "execution_count": 30,
   "metadata": {},
   "outputs": [
    {
     "data": {
      "text/plain": [
       "<AxesSubplot:xlabel='Age', ylabel='Market Value (Euros)'>"
      ]
     },
     "execution_count": 30,
     "metadata": {},
     "output_type": "execute_result"
    },
    {
     "data": {
      "image/png": "[encoded data removed]",
      "text/plain": [
       "<Figure size 720x432 with 1 Axes>"
      ]
     },
     "metadata": {
      "needs_background": "light"
     },
     "output_type": "display_data"
    }
   ],
   "source": [
    "plt.figure(figsize=(10,6))\n",
    "sns.barplot(x='Age', y='Market Value (Euros)', data=df)"
   ]
  },
  {
   "cell_type": "markdown",
   "metadata": {},
   "source": [
    "**We can see that the player's value starts growing from the age of 17 and grows till 28 which is considered the prime of many players in football.**"
   ]
  },
  {
   "cell_type": "code",
   "execution_count": 31,
   "metadata": {},
   "outputs": [
    {
     "data": {
      "text/plain": [
       "<seaborn.axisgrid.JointGrid at 0x7fd0804b0f10>"
      ]
     },
     "execution_count": 31,
     "metadata": {},
     "output_type": "execute_result"
    },
    {
     "data": {
      "image/png": "[encoded data removed]",
      "text/plain": [
       "<Figure size 432x432 with 3 Axes>"
      ]
     },
     "metadata": {
      "needs_background": "light"
     },
     "output_type": "display_data"
    }
   ],
   "source": [
    "sns.jointplot(x='Market Value (Euros)', y ='Highest Market Value (Euros)', data=df)"
   ]
  },
  {
   "cell_type": "markdown",
   "metadata": {},
   "source": [
    "we can check if league actually affects our market price"
   ]
  },
  {
   "cell_type": "code",
   "execution_count": 32,
   "metadata": {},
   "outputs": [
    {
     "data": {
      "text/plain": [
       "<AxesSubplot:xlabel='League', ylabel='Market Value (Euros)'>"
      ]
     },
     "execution_count": 32,
     "metadata": {},
     "output_type": "execute_result"
    },
    {
     "data": {
      "image/png": "[encoded data removed]",
      "text/plain": [
       "<Figure size 864x432 with 1 Axes>"
      ]
     },
     "metadata": {
      "needs_background": "light"
     },
     "output_type": "display_data"
    }
   ],
   "source": [
    "plt.figure(figsize=(12,6))\n",
    "sns.scatterplot(x='League', y='Market Value (Euros)', data=df)"
   ]
  },
  {
   "cell_type": "markdown",
   "metadata": {},
   "source": [
    "**We will keep only the data from the top leagues**"
   ]
  },
  {
   "cell_type": "code",
   "execution_count": 33,
   "metadata": {},
   "outputs": [],
   "source": [
    "league_list = ['Premier League', 'Bundesliga', 'LaLiga', 'Ligue 1','Serie A']\n",
    "\n",
    "filtered_df = df[df['League'].isin(league_list)]"
   ]
  },
  {
   "cell_type": "code",
   "execution_count": 34,
   "metadata": {},
   "outputs": [
    {
     "data": {
      "text/html": [
       "<div>\n",
       "<style scoped>\n",
       "    .dataframe tbody tr th:only-of-type {\n",
       "        vertical-align: middle;\n",
       "    }\n",
       "\n",
       "    .dataframe tbody tr th {\n",
       "        vertical-align: top;\n",
       "    }\n",
       "\n",
       "    .dataframe thead th {\n",
       "        text-align: right;\n",
       "    }\n",
       "</style>\n",
       "<table border=\"1\" class=\"dataframe\">\n",
       "  <thead>\n",
       "    <tr style=\"text-align: right;\">\n",
       "      <th></th>\n",
       "      <th>FullName</th>\n",
       "      <th>PlayerName</th>\n",
       "      <th>Affiliation</th>\n",
       "      <th>League</th>\n",
       "      <th>Jersey</th>\n",
       "      <th>Birth Date</th>\n",
       "      <th>Age</th>\n",
       "      <th>birthPlace</th>\n",
       "      <th>Height (meters)</th>\n",
       "      <th>Citizenship 1</th>\n",
       "      <th>...</th>\n",
       "      <th>Youth Club 7</th>\n",
       "      <th>nationality</th>\n",
       "      <th>Games Played</th>\n",
       "      <th>Market Value (Euros)</th>\n",
       "      <th>Last Updated Date</th>\n",
       "      <th>Accumulated Transfer Sums (Euros)</th>\n",
       "      <th>Highest Market Value (Euros)</th>\n",
       "      <th>Highest Market Value Date</th>\n",
       "      <th>NationalTeamCaps</th>\n",
       "      <th>MostRecentInjury</th>\n",
       "    </tr>\n",
       "  </thead>\n",
       "  <tbody>\n",
       "    <tr>\n",
       "      <th>0</th>\n",
       "      <td>Anthony Mbu Agogo Modeste</td>\n",
       "      <td>Anthony Modeste</td>\n",
       "      <td>1. FC Koln</td>\n",
       "      <td>Bundesliga</td>\n",
       "      <td>#27</td>\n",
       "      <td>4/14/1988</td>\n",
       "      <td>31</td>\n",
       "      <td>Cannes</td>\n",
       "      <td>1.87</td>\n",
       "      <td>France</td>\n",
       "      <td>...</td>\n",
       "      <td>NaN</td>\n",
       "      <td>France</td>\n",
       "      <td>1</td>\n",
       "      <td>7000000.0</td>\n",
       "      <td>Last update: Jun 12, 2019</td>\n",
       "      <td>45700000</td>\n",
       "      <td>20000000.0</td>\n",
       "      <td>6/19/2017</td>\n",
       "      <td>16</td>\n",
       "      <td>NaN</td>\n",
       "    </tr>\n",
       "    <tr>\n",
       "      <th>1</th>\n",
       "      <td>NaN</td>\n",
       "      <td>Benno Schmitz</td>\n",
       "      <td>1. FC Koln</td>\n",
       "      <td>Bundesliga</td>\n",
       "      <td>#2</td>\n",
       "      <td>11/17/1994</td>\n",
       "      <td>25</td>\n",
       "      <td>München</td>\n",
       "      <td>1.82</td>\n",
       "      <td>Germany</td>\n",
       "      <td>...</td>\n",
       "      <td>NaN</td>\n",
       "      <td>Germany</td>\n",
       "      <td>0</td>\n",
       "      <td>1000000.0</td>\n",
       "      <td>Last update: Jun 12, 2019</td>\n",
       "      <td>1000000</td>\n",
       "      <td>1750000.0</td>\n",
       "      <td>3/22/2017</td>\n",
       "      <td>11</td>\n",
       "      <td>NaN</td>\n",
       "    </tr>\n",
       "  </tbody>\n",
       "</table>\n",
       "<p>2 rows × 35 columns</p>\n",
       "</div>"
      ],
      "text/plain": [
       "                    FullName       PlayerName Affiliation      League Jersey  \\\n",
       "0  Anthony Mbu Agogo Modeste  Anthony Modeste  1. FC Koln  Bundesliga    #27   \n",
       "1                        NaN    Benno Schmitz  1. FC Koln  Bundesliga     #2   \n",
       "\n",
       "   Birth Date  Age birthPlace  Height (meters) Citizenship 1  ...  \\\n",
       "0   4/14/1988   31     Cannes             1.87        France  ...   \n",
       "1  11/17/1994   25    München             1.82       Germany  ...   \n",
       "\n",
       "  Youth Club 7 nationality Games Played Market Value (Euros)  \\\n",
       "0          NaN      France            1            7000000.0   \n",
       "1          NaN     Germany            0            1000000.0   \n",
       "\n",
       "           Last Updated Date Accumulated Transfer Sums (Euros)  \\\n",
       "0  Last update: Jun 12, 2019                          45700000   \n",
       "1  Last update: Jun 12, 2019                           1000000   \n",
       "\n",
       "  Highest Market Value (Euros) Highest Market Value Date NationalTeamCaps  \\\n",
       "0                   20000000.0                 6/19/2017               16   \n",
       "1                    1750000.0                 3/22/2017               11   \n",
       "\n",
       "  MostRecentInjury  \n",
       "0              NaN  \n",
       "1              NaN  \n",
       "\n",
       "[2 rows x 35 columns]"
      ]
     },
     "execution_count": 34,
     "metadata": {},
     "output_type": "execute_result"
    }
   ],
   "source": [
    "filtered_df.head(2)"
   ]
  },
  {
   "cell_type": "code",
   "execution_count": 35,
   "metadata": {},
   "outputs": [
    {
     "data": {
      "text/plain": [
       "FullName                             1288\n",
       "PlayerName                              0\n",
       "Affiliation                             0\n",
       "League                                  0\n",
       "Jersey                                 16\n",
       "Birth Date                              0\n",
       "Age                                     0\n",
       "birthPlace                             36\n",
       "Height (meters)                        16\n",
       "Citizenship 1                           1\n",
       "Citizenship 2                        2130\n",
       "Position                               13\n",
       "Position 2                              1\n",
       "Foot                                   60\n",
       "Agent                                 357\n",
       "JoinedClub                           1216\n",
       "LastExtension                        1725\n",
       "ContractExpiration                    215\n",
       "PlayerSponsor                        1865\n",
       "Youth Club 1                          672\n",
       "Youth Club 2                         1444\n",
       "Youth Club 3                         2084\n",
       "Youth Club 4                         2422\n",
       "Youth Club 5                         2552\n",
       "Youth Club 6                         2598\n",
       "Youth Club 7                         2616\n",
       "nationality                             0\n",
       "Games Played                            0\n",
       "Market Value (Euros)                   12\n",
       "Last Updated Date                      12\n",
       "Accumulated Transfer Sums (Euros)       0\n",
       "Highest Market Value (Euros)          112\n",
       "Highest Market Value Date             112\n",
       "NationalTeamCaps                        0\n",
       "MostRecentInjury                     2293\n",
       "dtype: int64"
      ]
     },
     "execution_count": 35,
     "metadata": {},
     "output_type": "execute_result"
    }
   ],
   "source": [
    "filtered_df.isnull().sum()"
   ]
  },
  {
   "cell_type": "code",
   "execution_count": 36,
   "metadata": {},
   "outputs": [],
   "source": [
    "#We can see that FullName is missing from a lot of places however we still have PlayerName column with o missing data\n",
    "#We can drop FullName from this database\n",
    "\n",
    "filtered_df = filtered_df.drop('FullName', axis=1)"
   ]
  },
  {
   "cell_type": "code",
   "execution_count": 37,
   "metadata": {},
   "outputs": [
    {
     "data": {
      "text/plain": [
       "105"
      ]
     },
     "execution_count": 37,
     "metadata": {},
     "output_type": "execute_result"
    }
   ],
   "source": [
    "#Let's see how many unique citizenships are there\n",
    "\n",
    "filtered_df['Citizenship 1'].nunique()"
   ]
  },
  {
   "cell_type": "code",
   "execution_count": 38,
   "metadata": {},
   "outputs": [
    {
     "data": {
      "text/plain": [
       "81"
      ]
     },
     "execution_count": 38,
     "metadata": {},
     "output_type": "execute_result"
    }
   ],
   "source": [
    "filtered_df['Citizenship 2'].nunique()"
   ]
  },
  {
   "cell_type": "markdown",
   "metadata": {},
   "source": [
    "**Realistically there are too many unique citizenship values to try to convert this to a dummy variable feature. Let's remove that citizenship 1 and 2 column**"
   ]
  },
  {
   "cell_type": "code",
   "execution_count": 39,
   "metadata": {},
   "outputs": [],
   "source": [
    "filtered_df = filtered_df.drop(['Citizenship 1', 'Citizenship 2'], axis=1)"
   ]
  },
  {
   "cell_type": "code",
   "execution_count": 40,
   "metadata": {},
   "outputs": [
    {
     "data": {
      "text/plain": [
       "PlayerName                              0\n",
       "Affiliation                             0\n",
       "League                                  0\n",
       "Jersey                                 16\n",
       "Birth Date                              0\n",
       "Age                                     0\n",
       "birthPlace                             36\n",
       "Height (meters)                        16\n",
       "Position                               13\n",
       "Position 2                              1\n",
       "Foot                                   60\n",
       "Agent                                 357\n",
       "JoinedClub                           1216\n",
       "LastExtension                        1725\n",
       "ContractExpiration                    215\n",
       "PlayerSponsor                        1865\n",
       "Youth Club 1                          672\n",
       "Youth Club 2                         1444\n",
       "Youth Club 3                         2084\n",
       "Youth Club 4                         2422\n",
       "Youth Club 5                         2552\n",
       "Youth Club 6                         2598\n",
       "Youth Club 7                         2616\n",
       "nationality                             0\n",
       "Games Played                            0\n",
       "Market Value (Euros)                   12\n",
       "Last Updated Date                      12\n",
       "Accumulated Transfer Sums (Euros)       0\n",
       "Highest Market Value (Euros)          112\n",
       "Highest Market Value Date             112\n",
       "NationalTeamCaps                        0\n",
       "MostRecentInjury                     2293\n",
       "dtype: int64"
      ]
     },
     "execution_count": 40,
     "metadata": {},
     "output_type": "execute_result"
    }
   ],
   "source": [
    "filtered_df.isnull().sum()"
   ]
  },
  {
   "cell_type": "code",
   "execution_count": 41,
   "metadata": {},
   "outputs": [
    {
     "data": {
      "text/plain": [
       "1857"
      ]
     },
     "execution_count": 41,
     "metadata": {},
     "output_type": "execute_result"
    }
   ],
   "source": [
    "#Let's check youth club data to see if it is okay to drop it\n",
    "filtered_df['Youth Club 1'].nunique()"
   ]
  },
  {
   "cell_type": "code",
   "execution_count": 42,
   "metadata": {},
   "outputs": [
    {
     "data": {
      "text/plain": [
       "1128"
      ]
     },
     "execution_count": 42,
     "metadata": {},
     "output_type": "execute_result"
    }
   ],
   "source": [
    "filtered_df['Youth Club 2'].nunique()"
   ]
  },
  {
   "cell_type": "code",
   "execution_count": 43,
   "metadata": {},
   "outputs": [
    {
     "data": {
      "text/plain": [
       "527"
      ]
     },
     "execution_count": 43,
     "metadata": {},
     "output_type": "execute_result"
    }
   ],
   "source": [
    "filtered_df['Youth Club 3'].nunique()"
   ]
  },
  {
   "cell_type": "code",
   "execution_count": 44,
   "metadata": {},
   "outputs": [
    {
     "data": {
      "text/plain": [
       "197"
      ]
     },
     "execution_count": 44,
     "metadata": {},
     "output_type": "execute_result"
    }
   ],
   "source": [
    "filtered_df['Youth Club 4'].nunique()"
   ]
  },
  {
   "cell_type": "code",
   "execution_count": 45,
   "metadata": {},
   "outputs": [
    {
     "data": {
      "text/plain": [
       "68"
      ]
     },
     "execution_count": 45,
     "metadata": {},
     "output_type": "execute_result"
    }
   ],
   "source": [
    "filtered_df['Youth Club 5'].nunique()"
   ]
  },
  {
   "cell_type": "code",
   "execution_count": 46,
   "metadata": {},
   "outputs": [
    {
     "data": {
      "text/plain": [
       "23"
      ]
     },
     "execution_count": 46,
     "metadata": {},
     "output_type": "execute_result"
    }
   ],
   "source": [
    "filtered_df['Youth Club 6'].nunique()"
   ]
  },
  {
   "cell_type": "code",
   "execution_count": 47,
   "metadata": {},
   "outputs": [
    {
     "data": {
      "text/plain": [
       "5"
      ]
     },
     "execution_count": 47,
     "metadata": {},
     "output_type": "execute_result"
    }
   ],
   "source": [
    "filtered_df['Youth Club 7'].nunique()"
   ]
  },
  {
   "cell_type": "markdown",
   "metadata": {},
   "source": [
    "Togther they all make a lot of unique values which will be tough to convert into dummy values. We will drop them"
   ]
  },
  {
   "cell_type": "code",
   "execution_count": 48,
   "metadata": {},
   "outputs": [],
   "source": [
    "filtered_df = filtered_df.drop(['Youth Club 1', 'Youth Club 2', 'Youth Club 3', 'Youth Club 4', 'Youth Club 5', 'Youth Club 6', 'Youth Club 7'], axis=1)"
   ]
  },
  {
   "cell_type": "code",
   "execution_count": 49,
   "metadata": {},
   "outputs": [
    {
     "data": {
      "text/html": [
       "<div>\n",
       "<style scoped>\n",
       "    .dataframe tbody tr th:only-of-type {\n",
       "        vertical-align: middle;\n",
       "    }\n",
       "\n",
       "    .dataframe tbody tr th {\n",
       "        vertical-align: top;\n",
       "    }\n",
       "\n",
       "    .dataframe thead th {\n",
       "        text-align: right;\n",
       "    }\n",
       "</style>\n",
       "<table border=\"1\" class=\"dataframe\">\n",
       "  <thead>\n",
       "    <tr style=\"text-align: right;\">\n",
       "      <th></th>\n",
       "      <th>PlayerName</th>\n",
       "      <th>Affiliation</th>\n",
       "      <th>League</th>\n",
       "      <th>Jersey</th>\n",
       "      <th>Birth Date</th>\n",
       "      <th>Age</th>\n",
       "      <th>birthPlace</th>\n",
       "      <th>Height (meters)</th>\n",
       "      <th>Position</th>\n",
       "      <th>Position 2</th>\n",
       "      <th>...</th>\n",
       "      <th>PlayerSponsor</th>\n",
       "      <th>nationality</th>\n",
       "      <th>Games Played</th>\n",
       "      <th>Market Value (Euros)</th>\n",
       "      <th>Last Updated Date</th>\n",
       "      <th>Accumulated Transfer Sums (Euros)</th>\n",
       "      <th>Highest Market Value (Euros)</th>\n",
       "      <th>Highest Market Value Date</th>\n",
       "      <th>NationalTeamCaps</th>\n",
       "      <th>MostRecentInjury</th>\n",
       "    </tr>\n",
       "  </thead>\n",
       "  <tbody>\n",
       "    <tr>\n",
       "      <th>0</th>\n",
       "      <td>Anthony Modeste</td>\n",
       "      <td>1. FC Koln</td>\n",
       "      <td>Bundesliga</td>\n",
       "      <td>#27</td>\n",
       "      <td>4/14/1988</td>\n",
       "      <td>31</td>\n",
       "      <td>Cannes</td>\n",
       "      <td>1.87</td>\n",
       "      <td>Forward</td>\n",
       "      <td>Centre-Forward</td>\n",
       "      <td>...</td>\n",
       "      <td>NaN</td>\n",
       "      <td>France</td>\n",
       "      <td>1</td>\n",
       "      <td>7000000.0</td>\n",
       "      <td>Last update: Jun 12, 2019</td>\n",
       "      <td>45700000</td>\n",
       "      <td>20000000.0</td>\n",
       "      <td>6/19/2017</td>\n",
       "      <td>16</td>\n",
       "      <td>NaN</td>\n",
       "    </tr>\n",
       "    <tr>\n",
       "      <th>1</th>\n",
       "      <td>Benno Schmitz</td>\n",
       "      <td>1. FC Koln</td>\n",
       "      <td>Bundesliga</td>\n",
       "      <td>#2</td>\n",
       "      <td>11/17/1994</td>\n",
       "      <td>25</td>\n",
       "      <td>München</td>\n",
       "      <td>1.82</td>\n",
       "      <td>Defender</td>\n",
       "      <td>Right-Back</td>\n",
       "      <td>...</td>\n",
       "      <td>NaN</td>\n",
       "      <td>Germany</td>\n",
       "      <td>0</td>\n",
       "      <td>1000000.0</td>\n",
       "      <td>Last update: Jun 12, 2019</td>\n",
       "      <td>1000000</td>\n",
       "      <td>1750000.0</td>\n",
       "      <td>3/22/2017</td>\n",
       "      <td>11</td>\n",
       "      <td>NaN</td>\n",
       "    </tr>\n",
       "  </tbody>\n",
       "</table>\n",
       "<p>2 rows × 25 columns</p>\n",
       "</div>"
      ],
      "text/plain": [
       "        PlayerName Affiliation      League Jersey  Birth Date  Age birthPlace  \\\n",
       "0  Anthony Modeste  1. FC Koln  Bundesliga    #27   4/14/1988   31     Cannes   \n",
       "1    Benno Schmitz  1. FC Koln  Bundesliga     #2  11/17/1994   25    München   \n",
       "\n",
       "   Height (meters)   Position      Position 2  ... PlayerSponsor nationality  \\\n",
       "0             1.87   Forward   Centre-Forward  ...           NaN      France   \n",
       "1             1.82  Defender       Right-Back  ...           NaN     Germany   \n",
       "\n",
       "  Games Played Market Value (Euros)          Last Updated Date  \\\n",
       "0            1            7000000.0  Last update: Jun 12, 2019   \n",
       "1            0            1000000.0  Last update: Jun 12, 2019   \n",
       "\n",
       "  Accumulated Transfer Sums (Euros) Highest Market Value (Euros)  \\\n",
       "0                          45700000                   20000000.0   \n",
       "1                           1000000                    1750000.0   \n",
       "\n",
       "   Highest Market Value Date  NationalTeamCaps MostRecentInjury  \n",
       "0                  6/19/2017                16              NaN  \n",
       "1                  3/22/2017                11              NaN  \n",
       "\n",
       "[2 rows x 25 columns]"
      ]
     },
     "execution_count": 49,
     "metadata": {},
     "output_type": "execute_result"
    }
   ],
   "source": [
    "filtered_df.head(2)"
   ]
  },
  {
   "cell_type": "code",
   "execution_count": 50,
   "metadata": {},
   "outputs": [
    {
     "data": {
      "text/plain": [
       "1865"
      ]
     },
     "execution_count": 50,
     "metadata": {},
     "output_type": "execute_result"
    }
   ],
   "source": [
    "filtered_df['PlayerSponsor'].isnull().sum()"
   ]
  },
  {
   "cell_type": "code",
   "execution_count": 51,
   "metadata": {},
   "outputs": [
    {
     "name": "stdout",
     "output_type": "stream",
     "text": [
      "2621\n"
     ]
    }
   ],
   "source": [
    "print(len(filtered_df['PlayerSponsor']))"
   ]
  },
  {
   "cell_type": "markdown",
   "metadata": {},
   "source": [
    "**As we see that out of 2621 values of Player Sponsor, 1865 are null, we can remove them**"
   ]
  },
  {
   "cell_type": "code",
   "execution_count": 52,
   "metadata": {},
   "outputs": [],
   "source": [
    "filtered_df = filtered_df.drop('PlayerSponsor', axis=1)"
   ]
  },
  {
   "cell_type": "code",
   "execution_count": 53,
   "metadata": {},
   "outputs": [
    {
     "data": {
      "text/plain": [
       "array(['#27', '#2', '#8', '#31', '#17', '#39', '#24', '#28', '#30', '#15',\n",
       "       '#14', '#22', '#32', '#19', '#11', '#3', '#13', '#7', '#6', '#35',\n",
       "       '#36', '#34', '#5', '#33', '#9', '#18', '#1', '#21', '#42', '#10',\n",
       "       '#20', '#37', '#4', '#29', '#23', '#16', '#12', '#90', '#79',\n",
       "       '#99', '#43', '#46', '#25', '#68', '#77', '#26', '#83', '#63',\n",
       "       '#48', '#40', '#91', '#72', '#57', '#88', '#95', '#41', '#38',\n",
       "       '#97', '#45', '#44', '#49', '#93', '#69', '#78', '#96', '#98',\n",
       "       '#66', '#87', '#85', '#62', '#47', '#53', '#64', '#56', '#73',\n",
       "       '#67', '#70', '#50'], dtype=object)"
      ]
     },
     "execution_count": 53,
     "metadata": {},
     "output_type": "execute_result"
    }
   ],
   "source": [
    "filtered_df['Jersey'].dropna().unique()"
   ]
  },
  {
   "cell_type": "code",
   "execution_count": 54,
   "metadata": {},
   "outputs": [
    {
     "data": {
      "text/plain": [
       "78"
      ]
     },
     "execution_count": 54,
     "metadata": {},
     "output_type": "execute_result"
    }
   ],
   "source": [
    "filtered_df['Jersey'].nunique()"
   ]
  },
  {
   "cell_type": "code",
   "execution_count": 55,
   "metadata": {},
   "outputs": [],
   "source": [
    "#There are a lot of jersey number values which in real life don't usually make an impact on how a player is valued\n",
    "#We can drop jersey as well\n",
    "filtered_df = filtered_df.drop('Jersey', axis=1)\n"
   ]
  },
  {
   "cell_type": "code",
   "execution_count": 56,
   "metadata": {},
   "outputs": [
    {
     "data": {
      "text/plain": [
       "PlayerName                              0\n",
       "Affiliation                             0\n",
       "League                                  0\n",
       "Birth Date                              0\n",
       "Age                                     0\n",
       "birthPlace                             36\n",
       "Height (meters)                        16\n",
       "Position                               13\n",
       "Position 2                              1\n",
       "Foot                                   60\n",
       "Agent                                 357\n",
       "JoinedClub                           1216\n",
       "LastExtension                        1725\n",
       "ContractExpiration                    215\n",
       "nationality                             0\n",
       "Games Played                            0\n",
       "Market Value (Euros)                   12\n",
       "Last Updated Date                      12\n",
       "Accumulated Transfer Sums (Euros)       0\n",
       "Highest Market Value (Euros)          112\n",
       "Highest Market Value Date             112\n",
       "NationalTeamCaps                        0\n",
       "MostRecentInjury                     2293\n",
       "dtype: int64"
      ]
     },
     "execution_count": 56,
     "metadata": {},
     "output_type": "execute_result"
    }
   ],
   "source": [
    "filtered_df.isnull().sum()"
   ]
  },
  {
   "cell_type": "code",
   "execution_count": 57,
   "metadata": {},
   "outputs": [
    {
     "data": {
      "text/plain": [
       "2621"
      ]
     },
     "execution_count": 57,
     "metadata": {},
     "output_type": "execute_result"
    }
   ],
   "source": [
    "len(filtered_df['LastExtension'])"
   ]
  },
  {
   "cell_type": "code",
   "execution_count": 58,
   "metadata": {},
   "outputs": [
    {
     "data": {
      "text/plain": [
       "1725"
      ]
     },
     "execution_count": 58,
     "metadata": {},
     "output_type": "execute_result"
    }
   ],
   "source": [
    "filtered_df['LastExtension'].isnull().sum()"
   ]
  },
  {
   "cell_type": "code",
   "execution_count": 59,
   "metadata": {},
   "outputs": [],
   "source": [
    "#Since majority of this data is missing, we will drop the last extension column as well\n",
    "\n",
    "filtered_df = filtered_df.drop('LastExtension', axis=1)"
   ]
  },
  {
   "cell_type": "code",
   "execution_count": 60,
   "metadata": {},
   "outputs": [
    {
     "data": {
      "text/plain": [
       "669"
      ]
     },
     "execution_count": 60,
     "metadata": {},
     "output_type": "execute_result"
    }
   ],
   "source": [
    "filtered_df['Agent'].nunique()"
   ]
  },
  {
   "cell_type": "code",
   "execution_count": 61,
   "metadata": {},
   "outputs": [
    {
     "data": {
      "text/plain": [
       "Relatives               100\n",
       "Stellar Football Ltd     67\n",
       "not clarified            51\n",
       "no agent                 42\n",
       "ROGON                    39\n",
       "                       ... \n",
       "Madeira Sports            1\n",
       "SPORTS ACTION             1\n",
       "EMD Sports GmbH           1\n",
       "NL-Soccer                 1\n",
       "Global Football ...       1\n",
       "Name: Agent, Length: 669, dtype: int64"
      ]
     },
     "execution_count": 61,
     "metadata": {},
     "output_type": "execute_result"
    }
   ],
   "source": [
    "filtered_df['Agent'].value_counts()"
   ]
  },
  {
   "cell_type": "code",
   "execution_count": 62,
   "metadata": {},
   "outputs": [],
   "source": [
    "#A lot of data from agent is missing and the one which is available is also vague, we will be dropping agent columns as well\n",
    "filtered_df = filtered_df.drop('Agent', axis=1)"
   ]
  },
  {
   "cell_type": "code",
   "execution_count": 63,
   "metadata": {},
   "outputs": [
    {
     "data": {
      "text/plain": [
       "21"
      ]
     },
     "execution_count": 63,
     "metadata": {},
     "output_type": "execute_result"
    }
   ],
   "source": [
    "filtered_df['ContractExpiration'].nunique()"
   ]
  },
  {
   "cell_type": "code",
   "execution_count": 64,
   "metadata": {},
   "outputs": [
    {
     "data": {
      "text/plain": [
       "30.06.2022                     572\n",
       "30.06.2021                     554\n",
       "30.06.2020                     536\n",
       "30.06.2023                     458\n",
       "30.06.2024                     219\n",
       "-                               21\n",
       "30.06.2025                      19\n",
       "31.05.2020                       5\n",
       "Contract expires:30.06.2022      4\n",
       "Contract expires:30.06.2023      3\n",
       "30.06.2026                       3\n",
       "Contract expires:-               3\n",
       "Contract expires:30.06.2020      1\n",
       "30.06.2019                       1\n",
       "06.01.2020                       1\n",
       "31.12.2020                       1\n",
       "Contract expires:30.06.2021      1\n",
       "30.06.2028                       1\n",
       "31.12.2021                       1\n",
       "31.12.2019                       1\n",
       "31.01.2020                       1\n",
       "Name: ContractExpiration, dtype: int64"
      ]
     },
     "execution_count": 64,
     "metadata": {},
     "output_type": "execute_result"
    }
   ],
   "source": [
    "filtered_df['ContractExpiration'].value_counts()"
   ]
  },
  {
   "cell_type": "code",
   "execution_count": 65,
   "metadata": {},
   "outputs": [],
   "source": [
    "#We can fill the na values in Contract Expiration with the average value of years which is 2022\n",
    "df['ContractExpiration'] = df['ContractExpiration'].fillna('30.06.2022')"
   ]
  },
  {
   "cell_type": "code",
   "execution_count": 66,
   "metadata": {},
   "outputs": [
    {
     "data": {
      "text/plain": [
       "0"
      ]
     },
     "execution_count": 66,
     "metadata": {},
     "output_type": "execute_result"
    }
   ],
   "source": [
    "df['ContractExpiration'].isnull().sum()"
   ]
  },
  {
   "cell_type": "code",
   "execution_count": 67,
   "metadata": {},
   "outputs": [
    {
     "data": {
      "text/html": [
       "<div>\n",
       "<style scoped>\n",
       "    .dataframe tbody tr th:only-of-type {\n",
       "        vertical-align: middle;\n",
       "    }\n",
       "\n",
       "    .dataframe tbody tr th {\n",
       "        vertical-align: top;\n",
       "    }\n",
       "\n",
       "    .dataframe thead th {\n",
       "        text-align: right;\n",
       "    }\n",
       "</style>\n",
       "<table border=\"1\" class=\"dataframe\">\n",
       "  <thead>\n",
       "    <tr style=\"text-align: right;\">\n",
       "      <th></th>\n",
       "      <th>PlayerName</th>\n",
       "      <th>Affiliation</th>\n",
       "      <th>League</th>\n",
       "      <th>Birth Date</th>\n",
       "      <th>Age</th>\n",
       "      <th>birthPlace</th>\n",
       "      <th>Height (meters)</th>\n",
       "      <th>Position</th>\n",
       "      <th>Position 2</th>\n",
       "      <th>Foot</th>\n",
       "      <th>...</th>\n",
       "      <th>ContractExpiration</th>\n",
       "      <th>nationality</th>\n",
       "      <th>Games Played</th>\n",
       "      <th>Market Value (Euros)</th>\n",
       "      <th>Last Updated Date</th>\n",
       "      <th>Accumulated Transfer Sums (Euros)</th>\n",
       "      <th>Highest Market Value (Euros)</th>\n",
       "      <th>Highest Market Value Date</th>\n",
       "      <th>NationalTeamCaps</th>\n",
       "      <th>MostRecentInjury</th>\n",
       "    </tr>\n",
       "  </thead>\n",
       "  <tbody>\n",
       "    <tr>\n",
       "      <th>1116</th>\n",
       "      <td>Beni Baningime</td>\n",
       "      <td>Everton</td>\n",
       "      <td>Premier League</td>\n",
       "      <td>9/9/1998</td>\n",
       "      <td>21</td>\n",
       "      <td>Kinshasa</td>\n",
       "      <td>NaN</td>\n",
       "      <td>NaN</td>\n",
       "      <td>Contract expires:30.06.2022</td>\n",
       "      <td>NaN</td>\n",
       "      <td>...</td>\n",
       "      <td>Contract expires:30.06.2022</td>\n",
       "      <td>DR Congo</td>\n",
       "      <td>0</td>\n",
       "      <td>2000000.0</td>\n",
       "      <td>Last update: Jun 13, 2019</td>\n",
       "      <td>0</td>\n",
       "      <td>3000000.0</td>\n",
       "      <td>5/28/2018</td>\n",
       "      <td>0</td>\n",
       "      <td>NaN</td>\n",
       "    </tr>\n",
       "    <tr>\n",
       "      <th>1155</th>\n",
       "      <td>Kelvin Ofori</td>\n",
       "      <td>F. Dusseldorf</td>\n",
       "      <td>Bundesliga</td>\n",
       "      <td>7/27/2001</td>\n",
       "      <td>18</td>\n",
       "      <td>NaN</td>\n",
       "      <td>NaN</td>\n",
       "      <td>NaN</td>\n",
       "      <td>Contract expires:30.06.2022</td>\n",
       "      <td>NaN</td>\n",
       "      <td>...</td>\n",
       "      <td>Contract expires:30.06.2022</td>\n",
       "      <td>Ghana</td>\n",
       "      <td>1</td>\n",
       "      <td>300000.0</td>\n",
       "      <td>Last update: Aug 7, 2019</td>\n",
       "      <td>0</td>\n",
       "      <td>NaN</td>\n",
       "      <td>NaN</td>\n",
       "      <td>0</td>\n",
       "      <td>NaN</td>\n",
       "    </tr>\n",
       "    <tr>\n",
       "      <th>2231</th>\n",
       "      <td>Abdallah Ali Mohamed</td>\n",
       "      <td>Marseille</td>\n",
       "      <td>Ligue 1</td>\n",
       "      <td>4/11/1999</td>\n",
       "      <td>20</td>\n",
       "      <td>Moroni</td>\n",
       "      <td>NaN</td>\n",
       "      <td>NaN</td>\n",
       "      <td>Contract expires:30.06.2022</td>\n",
       "      <td>right</td>\n",
       "      <td>...</td>\n",
       "      <td>Contract expires:30.06.2022</td>\n",
       "      <td>Comoros</td>\n",
       "      <td>0</td>\n",
       "      <td>150000.0</td>\n",
       "      <td>Last update: Jul 24, 2019</td>\n",
       "      <td>0</td>\n",
       "      <td>NaN</td>\n",
       "      <td>NaN</td>\n",
       "      <td>5</td>\n",
       "      <td>NaN</td>\n",
       "    </tr>\n",
       "    <tr>\n",
       "      <th>2253</th>\n",
       "      <td>Simon Ngapandouetnbu</td>\n",
       "      <td>Marseille</td>\n",
       "      <td>Ligue 1</td>\n",
       "      <td>4/12/2003</td>\n",
       "      <td>16</td>\n",
       "      <td>Foumban</td>\n",
       "      <td>NaN</td>\n",
       "      <td>NaN</td>\n",
       "      <td>Contract expires:30.06.2022</td>\n",
       "      <td>NaN</td>\n",
       "      <td>...</td>\n",
       "      <td>Contract expires:30.06.2022</td>\n",
       "      <td>Cameroon</td>\n",
       "      <td>0</td>\n",
       "      <td>NaN</td>\n",
       "      <td>NaN</td>\n",
       "      <td>0</td>\n",
       "      <td>NaN</td>\n",
       "      <td>NaN</td>\n",
       "      <td>0</td>\n",
       "      <td>NaN</td>\n",
       "    </tr>\n",
       "  </tbody>\n",
       "</table>\n",
       "<p>4 rows × 21 columns</p>\n",
       "</div>"
      ],
      "text/plain": [
       "                PlayerName    Affiliation          League Birth Date  Age  \\\n",
       "1116        Beni Baningime        Everton  Premier League   9/9/1998   21   \n",
       "1155          Kelvin Ofori  F. Dusseldorf      Bundesliga  7/27/2001   18   \n",
       "2231  Abdallah Ali Mohamed      Marseille         Ligue 1  4/11/1999   20   \n",
       "2253  Simon Ngapandouetnbu      Marseille         Ligue 1  4/12/2003   16   \n",
       "\n",
       "     birthPlace  Height (meters) Position                   Position 2   Foot  \\\n",
       "1116   Kinshasa              NaN      NaN  Contract expires:30.06.2022    NaN   \n",
       "1155        NaN              NaN      NaN  Contract expires:30.06.2022    NaN   \n",
       "2231     Moroni              NaN      NaN  Contract expires:30.06.2022  right   \n",
       "2253    Foumban              NaN      NaN  Contract expires:30.06.2022    NaN   \n",
       "\n",
       "      ...           ContractExpiration nationality Games Played  \\\n",
       "1116  ...  Contract expires:30.06.2022    DR Congo            0   \n",
       "1155  ...  Contract expires:30.06.2022       Ghana            1   \n",
       "2231  ...  Contract expires:30.06.2022     Comoros            0   \n",
       "2253  ...  Contract expires:30.06.2022    Cameroon            0   \n",
       "\n",
       "      Market Value (Euros)          Last Updated Date  \\\n",
       "1116             2000000.0  Last update: Jun 13, 2019   \n",
       "1155              300000.0   Last update: Aug 7, 2019   \n",
       "2231              150000.0  Last update: Jul 24, 2019   \n",
       "2253                   NaN                        NaN   \n",
       "\n",
       "     Accumulated Transfer Sums (Euros)  Highest Market Value (Euros)  \\\n",
       "1116                                 0                     3000000.0   \n",
       "1155                                 0                           NaN   \n",
       "2231                                 0                           NaN   \n",
       "2253                                 0                           NaN   \n",
       "\n",
       "      Highest Market Value Date NationalTeamCaps  MostRecentInjury  \n",
       "1116                  5/28/2018                0               NaN  \n",
       "1155                        NaN                0               NaN  \n",
       "2231                        NaN                5               NaN  \n",
       "2253                        NaN                0               NaN  \n",
       "\n",
       "[4 rows x 21 columns]"
      ]
     },
     "execution_count": 67,
     "metadata": {},
     "output_type": "execute_result"
    }
   ],
   "source": [
    "#we see someplaces though that the value of contract expiration is not datetime but a string plus datetime\n",
    "filtered_df.loc[filtered_df['ContractExpiration']=='Contract expires:30.06.2022'] "
   ]
  },
  {
   "cell_type": "code",
   "execution_count": 68,
   "metadata": {},
   "outputs": [],
   "source": [
    "#I created a function here which changes all the values which did not have datetime format\n",
    "def fhx(x):\n",
    "    if x == 'Contract expires:30.06.2022':\n",
    "        return '30.06.2022'\n",
    "    elif x == 'Contract expires:30.06.2023':\n",
    "        return '30.06.2023'\n",
    "    elif x == 'Contract expires:-':\n",
    "        return '30.06.2022'\n",
    "    elif x == 'Contract expires:30.06.2021':\n",
    "        return '30.06.2021'\n",
    "    elif x == 'nan':\n",
    "        return '30.06.2022'\n",
    "    elif x == 'Contract expires:30.06.2020':\n",
    "        return '30.06.2020'\n",
    "    elif x == '-':\n",
    "        return '30.06.2020'\n",
    "    \n",
    "    else:\n",
    "        return x\n",
    "\n",
    "filtered_df['ContractExpiration']=filtered_df['ContractExpiration'].apply(fhx)\n"
   ]
  },
  {
   "cell_type": "code",
   "execution_count": 69,
   "metadata": {},
   "outputs": [
    {
     "data": {
      "text/plain": [
       "30.06.2022    579\n",
       "30.06.2020    558\n",
       "30.06.2021    555\n",
       "30.06.2023    461\n",
       "30.06.2024    219\n",
       "30.06.2025     19\n",
       "31.05.2020      5\n",
       "30.06.2026      3\n",
       "30.06.2019      1\n",
       "30.06.2028      1\n",
       "31.12.2021      1\n",
       "31.01.2020      1\n",
       "31.12.2020      1\n",
       "06.01.2020      1\n",
       "31.12.2019      1\n",
       "Name: ContractExpiration, dtype: int64"
      ]
     },
     "execution_count": 69,
     "metadata": {},
     "output_type": "execute_result"
    }
   ],
   "source": [
    "filtered_df['ContractExpiration'].value_counts()"
   ]
  },
  {
   "cell_type": "code",
   "execution_count": 70,
   "metadata": {},
   "outputs": [],
   "source": [
    "filtered_df['ContractExpiration']= filtered_df['ContractExpiration'].dropna()"
   ]
  },
  {
   "cell_type": "code",
   "execution_count": 71,
   "metadata": {},
   "outputs": [
    {
     "data": {
      "text/plain": [
       "array(['30.06.2023', '30.06.2022', '30.06.2021', '30.06.2020', nan,\n",
       "       '30.06.2024', '31.01.2020', '30.06.2028', '30.06.2026',\n",
       "       '30.06.2025', '31.05.2020', '06.01.2020', '30.06.2019',\n",
       "       '31.12.2020', '31.12.2019', '31.12.2021'], dtype=object)"
      ]
     },
     "execution_count": 71,
     "metadata": {},
     "output_type": "execute_result"
    }
   ],
   "source": [
    "filtered_df['ContractExpiration'].unique()"
   ]
  },
  {
   "cell_type": "code",
   "execution_count": 72,
   "metadata": {},
   "outputs": [],
   "source": [
    "#Converting this data to datetime format\n",
    "filtered_df['ContractExpiration']= pd.to_datetime(filtered_df['ContractExpiration'])"
   ]
  },
  {
   "cell_type": "code",
   "execution_count": 73,
   "metadata": {},
   "outputs": [],
   "source": [
    "#Getting contract expiration year out of this datetime\n",
    "filtered_df['ContractExpYear'] = filtered_df['ContractExpiration'].apply(lambda x:x.year)"
   ]
  },
  {
   "cell_type": "code",
   "execution_count": 74,
   "metadata": {},
   "outputs": [
    {
     "data": {
      "text/plain": [
       "0       2023.0\n",
       "1       2022.0\n",
       "2       2023.0\n",
       "3       2021.0\n",
       "4       2021.0\n",
       "         ...  \n",
       "4251    2023.0\n",
       "4252    2024.0\n",
       "4253    2022.0\n",
       "4254    2021.0\n",
       "4255    2021.0\n",
       "Name: ContractExpYear, Length: 2621, dtype: float64"
      ]
     },
     "execution_count": 74,
     "metadata": {},
     "output_type": "execute_result"
    }
   ],
   "source": [
    "filtered_df['ContractExpYear']"
   ]
  },
  {
   "cell_type": "code",
   "execution_count": 75,
   "metadata": {},
   "outputs": [],
   "source": [
    "#Now that we have contract expiration year as an int value, we can remove the contractexpiration column\n",
    "filtered_df = filtered_df.drop('ContractExpiration', axis=1)"
   ]
  },
  {
   "cell_type": "code",
   "execution_count": 76,
   "metadata": {},
   "outputs": [
    {
     "data": {
      "text/plain": [
       "<AxesSubplot:xlabel='ContractExpYear', ylabel='Market Value (Euros)'>"
      ]
     },
     "execution_count": 76,
     "metadata": {},
     "output_type": "execute_result"
    },
    {
     "data": {
      "image/png": "[encoded data removed]",
      "text/plain": [
       "<Figure size 864x432 with 1 Axes>"
      ]
     },
     "metadata": {
      "needs_background": "light"
     },
     "output_type": "display_data"
    }
   ],
   "source": [
    "#Now lets see if contract expiration year has any relation with the market value of a player\n",
    "plt.figure(figsize=(12,6))\n",
    "sns.barplot(x='ContractExpYear', y='Market Value (Euros)', data= filtered_df)"
   ]
  },
  {
   "cell_type": "markdown",
   "metadata": {},
   "source": [
    "# We can see that as the contract expiration year goes up, value also goes up which makes sense"
   ]
  },
  {
   "cell_type": "code",
   "execution_count": 77,
   "metadata": {},
   "outputs": [
    {
     "data": {
      "text/plain": [
       "PlayerName                              0\n",
       "Affiliation                             0\n",
       "League                                  0\n",
       "Birth Date                              0\n",
       "Age                                     0\n",
       "birthPlace                             36\n",
       "Height (meters)                        16\n",
       "Position                               13\n",
       "Position 2                              1\n",
       "Foot                                   60\n",
       "JoinedClub                           1216\n",
       "nationality                             0\n",
       "Games Played                            0\n",
       "Market Value (Euros)                   12\n",
       "Last Updated Date                      12\n",
       "Accumulated Transfer Sums (Euros)       0\n",
       "Highest Market Value (Euros)          112\n",
       "Highest Market Value Date             112\n",
       "NationalTeamCaps                        0\n",
       "MostRecentInjury                     2293\n",
       "ContractExpYear                       215\n",
       "dtype: int64"
      ]
     },
     "execution_count": 77,
     "metadata": {},
     "output_type": "execute_result"
    }
   ],
   "source": [
    "filtered_df.isnull().sum()"
   ]
  },
  {
   "cell_type": "code",
   "execution_count": 78,
   "metadata": {},
   "outputs": [
    {
     "data": {
      "text/plain": [
       "2621"
      ]
     },
     "execution_count": 78,
     "metadata": {},
     "output_type": "execute_result"
    }
   ],
   "source": [
    "len(filtered_df['JoinedClub'])"
   ]
  },
  {
   "cell_type": "code",
   "execution_count": 79,
   "metadata": {},
   "outputs": [
    {
     "data": {
      "text/plain": [
       "410"
      ]
     },
     "execution_count": 79,
     "metadata": {},
     "output_type": "execute_result"
    }
   ],
   "source": [
    "filtered_df['JoinedClub'].nunique()"
   ]
  },
  {
   "cell_type": "code",
   "execution_count": 80,
   "metadata": {},
   "outputs": [],
   "source": [
    "#Due to too many unique values and half of them being null, it would be better if we drop Joined Club column\n",
    "filtered_df = filtered_df.drop('JoinedClub', axis=1) "
   ]
  },
  {
   "cell_type": "code",
   "execution_count": 81,
   "metadata": {},
   "outputs": [],
   "source": [
    "#Most values of RecentInjury columns are null as we can see. We will be dropping this column as well\n",
    "filtered_df = filtered_df.drop('MostRecentInjury', axis=1) "
   ]
  },
  {
   "cell_type": "code",
   "execution_count": 82,
   "metadata": {},
   "outputs": [
    {
     "data": {
      "text/plain": [
       "PlayerName                             0\n",
       "Affiliation                            0\n",
       "League                                 0\n",
       "Birth Date                             0\n",
       "Age                                    0\n",
       "birthPlace                            36\n",
       "Height (meters)                       16\n",
       "Position                              13\n",
       "Position 2                             1\n",
       "Foot                                  60\n",
       "nationality                            0\n",
       "Games Played                           0\n",
       "Market Value (Euros)                  12\n",
       "Last Updated Date                     12\n",
       "Accumulated Transfer Sums (Euros)      0\n",
       "Highest Market Value (Euros)         112\n",
       "Highest Market Value Date            112\n",
       "NationalTeamCaps                       0\n",
       "ContractExpYear                      215\n",
       "dtype: int64"
      ]
     },
     "execution_count": 82,
     "metadata": {},
     "output_type": "execute_result"
    }
   ],
   "source": [
    "filtered_df.isnull().sum()"
   ]
  },
  {
   "cell_type": "code",
   "execution_count": 83,
   "metadata": {},
   "outputs": [
    {
     "data": {
      "text/plain": [
       "2021.7007481296757"
      ]
     },
     "execution_count": 83,
     "metadata": {},
     "output_type": "execute_result"
    }
   ],
   "source": [
    "#Contract Exp Year has 215 null values. We will fill that value with the mean value of the year\n",
    "filtered_df['ContractExpYear'].mean()"
   ]
  },
  {
   "cell_type": "code",
   "execution_count": 84,
   "metadata": {},
   "outputs": [],
   "source": [
    "filtered_df['ContractExpYear'] = filtered_df['ContractExpYear'].fillna(2022)"
   ]
  },
  {
   "cell_type": "code",
   "execution_count": 85,
   "metadata": {},
   "outputs": [
    {
     "data": {
      "text/plain": [
       "0       right\n",
       "1       right\n",
       "2       right\n",
       "3       right\n",
       "4       right\n",
       "        ...  \n",
       "4251    right\n",
       "4252     left\n",
       "4253     left\n",
       "4254    right\n",
       "4255    right\n",
       "Name: Foot, Length: 2621, dtype: object"
      ]
     },
     "execution_count": 85,
     "metadata": {},
     "output_type": "execute_result"
    }
   ],
   "source": [
    "#Now lets analyze foot column\n",
    "filtered_df['Foot']"
   ]
  },
  {
   "cell_type": "code",
   "execution_count": 86,
   "metadata": {},
   "outputs": [
    {
     "data": {
      "text/plain": [
       "<AxesSubplot:xlabel='Foot', ylabel='Market Value (Euros)'>"
      ]
     },
     "execution_count": 86,
     "metadata": {},
     "output_type": "execute_result"
    },
    {
     "data": {
      "image/png": "[encoded data removed]",
      "text/plain": [
       "<Figure size 432x288 with 1 Axes>"
      ]
     },
     "metadata": {
      "needs_background": "light"
     },
     "output_type": "display_data"
    }
   ],
   "source": [
    "sns.barplot(x='Foot', y='Market Value (Euros)', data=filtered_df)"
   ]
  },
  {
   "cell_type": "markdown",
   "metadata": {},
   "source": [
    "**We can see that both strong foot players are valued more followed by left foot and then right foot**"
   ]
  },
  {
   "cell_type": "code",
   "execution_count": 87,
   "metadata": {},
   "outputs": [
    {
     "data": {
      "text/plain": [
       "right    1819\n",
       "left      639\n",
       "both      103\n",
       "Name: Foot, dtype: int64"
      ]
     },
     "execution_count": 87,
     "metadata": {},
     "output_type": "execute_result"
    }
   ],
   "source": [
    "#We cannot drop the foot column as it has a direct connection with the market value of a player\n",
    "#To replace the null values of foot \n",
    "filtered_df['Foot'].value_counts()"
   ]
  },
  {
   "cell_type": "code",
   "execution_count": 88,
   "metadata": {
    "scrolled": true
   },
   "outputs": [
    {
     "data": {
      "text/html": [
       "<div>\n",
       "<style scoped>\n",
       "    .dataframe tbody tr th:only-of-type {\n",
       "        vertical-align: middle;\n",
       "    }\n",
       "\n",
       "    .dataframe tbody tr th {\n",
       "        vertical-align: top;\n",
       "    }\n",
       "\n",
       "    .dataframe thead th {\n",
       "        text-align: right;\n",
       "    }\n",
       "</style>\n",
       "<table border=\"1\" class=\"dataframe\">\n",
       "  <thead>\n",
       "    <tr style=\"text-align: right;\">\n",
       "      <th></th>\n",
       "      <th>PlayerName</th>\n",
       "      <th>Affiliation</th>\n",
       "      <th>League</th>\n",
       "      <th>Birth Date</th>\n",
       "      <th>Age</th>\n",
       "      <th>birthPlace</th>\n",
       "      <th>Height (meters)</th>\n",
       "      <th>Position</th>\n",
       "      <th>Position 2</th>\n",
       "      <th>Foot</th>\n",
       "      <th>nationality</th>\n",
       "      <th>Games Played</th>\n",
       "      <th>Market Value (Euros)</th>\n",
       "      <th>Last Updated Date</th>\n",
       "      <th>Accumulated Transfer Sums (Euros)</th>\n",
       "      <th>Highest Market Value (Euros)</th>\n",
       "      <th>Highest Market Value Date</th>\n",
       "      <th>NationalTeamCaps</th>\n",
       "      <th>ContractExpYear</th>\n",
       "    </tr>\n",
       "  </thead>\n",
       "  <tbody>\n",
       "    <tr>\n",
       "      <th>0</th>\n",
       "      <td>Anthony Modeste</td>\n",
       "      <td>1. FC Koln</td>\n",
       "      <td>Bundesliga</td>\n",
       "      <td>4/14/1988</td>\n",
       "      <td>31</td>\n",
       "      <td>Cannes</td>\n",
       "      <td>1.87</td>\n",
       "      <td>Forward</td>\n",
       "      <td>Centre-Forward</td>\n",
       "      <td>right</td>\n",
       "      <td>France</td>\n",
       "      <td>1</td>\n",
       "      <td>7000000.0</td>\n",
       "      <td>Last update: Jun 12, 2019</td>\n",
       "      <td>45700000</td>\n",
       "      <td>20000000.0</td>\n",
       "      <td>6/19/2017</td>\n",
       "      <td>16</td>\n",
       "      <td>2023.0</td>\n",
       "    </tr>\n",
       "    <tr>\n",
       "      <th>1</th>\n",
       "      <td>Benno Schmitz</td>\n",
       "      <td>1. FC Koln</td>\n",
       "      <td>Bundesliga</td>\n",
       "      <td>11/17/1994</td>\n",
       "      <td>25</td>\n",
       "      <td>München</td>\n",
       "      <td>1.82</td>\n",
       "      <td>Defender</td>\n",
       "      <td>Right-Back</td>\n",
       "      <td>right</td>\n",
       "      <td>Germany</td>\n",
       "      <td>0</td>\n",
       "      <td>1000000.0</td>\n",
       "      <td>Last update: Jun 12, 2019</td>\n",
       "      <td>1000000</td>\n",
       "      <td>1750000.0</td>\n",
       "      <td>3/22/2017</td>\n",
       "      <td>11</td>\n",
       "      <td>2022.0</td>\n",
       "    </tr>\n",
       "    <tr>\n",
       "      <th>2</th>\n",
       "      <td>Birger Verstraete</td>\n",
       "      <td>1. FC Koln</td>\n",
       "      <td>Bundesliga</td>\n",
       "      <td>4/16/1994</td>\n",
       "      <td>25</td>\n",
       "      <td>Oostende</td>\n",
       "      <td>1.75</td>\n",
       "      <td>Midfielder</td>\n",
       "      <td>Defensive Midfield</td>\n",
       "      <td>right</td>\n",
       "      <td>Belgium</td>\n",
       "      <td>0</td>\n",
       "      <td>4000000.0</td>\n",
       "      <td>Last update: Jun 10, 2019</td>\n",
       "      <td>4850000</td>\n",
       "      <td>4000000.0</td>\n",
       "      <td>9/11/2018</td>\n",
       "      <td>1</td>\n",
       "      <td>2023.0</td>\n",
       "    </tr>\n",
       "    <tr>\n",
       "      <th>3</th>\n",
       "      <td>Brady Scott</td>\n",
       "      <td>1. FC Koln</td>\n",
       "      <td>Bundesliga</td>\n",
       "      <td>6/30/1999</td>\n",
       "      <td>20</td>\n",
       "      <td>Petaluma, California</td>\n",
       "      <td>1.87</td>\n",
       "      <td>Goalkeeper</td>\n",
       "      <td>Goalkeeper</td>\n",
       "      <td>right</td>\n",
       "      <td>United States</td>\n",
       "      <td>14</td>\n",
       "      <td>100000.0</td>\n",
       "      <td>Last update: Jun 12, 2019</td>\n",
       "      <td>0</td>\n",
       "      <td>100000.0</td>\n",
       "      <td>8/3/2018</td>\n",
       "      <td>0</td>\n",
       "      <td>2021.0</td>\n",
       "    </tr>\n",
       "    <tr>\n",
       "      <th>4</th>\n",
       "      <td>Christian Clemens</td>\n",
       "      <td>1. FC Koln</td>\n",
       "      <td>Bundesliga</td>\n",
       "      <td>8/4/1991</td>\n",
       "      <td>28</td>\n",
       "      <td>Köln</td>\n",
       "      <td>1.79</td>\n",
       "      <td>Midfielder</td>\n",
       "      <td>Right Midfield</td>\n",
       "      <td>right</td>\n",
       "      <td>Germany</td>\n",
       "      <td>15</td>\n",
       "      <td>1750000.0</td>\n",
       "      <td>Last update: Jun 12, 2019</td>\n",
       "      <td>7950000</td>\n",
       "      <td>3500000.0</td>\n",
       "      <td>6/29/2013</td>\n",
       "      <td>5</td>\n",
       "      <td>2021.0</td>\n",
       "    </tr>\n",
       "  </tbody>\n",
       "</table>\n",
       "</div>"
      ],
      "text/plain": [
       "          PlayerName Affiliation      League  Birth Date  Age  \\\n",
       "0    Anthony Modeste  1. FC Koln  Bundesliga   4/14/1988   31   \n",
       "1      Benno Schmitz  1. FC Koln  Bundesliga  11/17/1994   25   \n",
       "2  Birger Verstraete  1. FC Koln  Bundesliga   4/16/1994   25   \n",
       "3        Brady Scott  1. FC Koln  Bundesliga   6/30/1999   20   \n",
       "4  Christian Clemens  1. FC Koln  Bundesliga    8/4/1991   28   \n",
       "\n",
       "             birthPlace  Height (meters)     Position          Position 2  \\\n",
       "0                Cannes             1.87     Forward       Centre-Forward   \n",
       "1               München             1.82    Defender           Right-Back   \n",
       "2              Oostende             1.75  Midfielder   Defensive Midfield   \n",
       "3  Petaluma, California             1.87   Goalkeeper          Goalkeeper   \n",
       "4                  Köln             1.79  Midfielder       Right Midfield   \n",
       "\n",
       "    Foot    nationality  Games Played  Market Value (Euros)  \\\n",
       "0  right         France             1             7000000.0   \n",
       "1  right        Germany             0             1000000.0   \n",
       "2  right        Belgium             0             4000000.0   \n",
       "3  right  United States            14              100000.0   \n",
       "4  right        Germany            15             1750000.0   \n",
       "\n",
       "           Last Updated Date  Accumulated Transfer Sums (Euros)  \\\n",
       "0  Last update: Jun 12, 2019                           45700000   \n",
       "1  Last update: Jun 12, 2019                            1000000   \n",
       "2  Last update: Jun 10, 2019                            4850000   \n",
       "3  Last update: Jun 12, 2019                                  0   \n",
       "4  Last update: Jun 12, 2019                            7950000   \n",
       "\n",
       "   Highest Market Value (Euros) Highest Market Value Date  NationalTeamCaps  \\\n",
       "0                    20000000.0                 6/19/2017                16   \n",
       "1                     1750000.0                 3/22/2017                11   \n",
       "2                     4000000.0                 9/11/2018                 1   \n",
       "3                      100000.0                  8/3/2018                 0   \n",
       "4                     3500000.0                 6/29/2013                 5   \n",
       "\n",
       "   ContractExpYear  \n",
       "0           2023.0  \n",
       "1           2022.0  \n",
       "2           2023.0  \n",
       "3           2021.0  \n",
       "4           2021.0  "
      ]
     },
     "execution_count": 88,
     "metadata": {},
     "output_type": "execute_result"
    }
   ],
   "source": [
    "filtered_df.head()"
   ]
  },
  {
   "cell_type": "code",
   "execution_count": 89,
   "metadata": {},
   "outputs": [
    {
     "data": {
      "text/plain": [
       "right    1819\n",
       "left      639\n",
       "both      103\n",
       "Name: Foot, dtype: int64"
      ]
     },
     "execution_count": 89,
     "metadata": {},
     "output_type": "execute_result"
    }
   ],
   "source": [
    "filtered_df['Foot'].value_counts()"
   ]
  },
  {
   "cell_type": "code",
   "execution_count": 90,
   "metadata": {},
   "outputs": [],
   "source": [
    "#We will fill the foot data with the maximum class method\n",
    "#In this case we see that majority players have their right foot as strong foot\n",
    "#We will fill the null values with right foot\n",
    "\n",
    "filtered_df['Foot']= filtered_df['Foot'].fillna('right')"
   ]
  },
  {
   "cell_type": "code",
   "execution_count": 91,
   "metadata": {},
   "outputs": [
    {
     "data": {
      "text/plain": [
       "PlayerName                             0\n",
       "Affiliation                            0\n",
       "League                                 0\n",
       "Birth Date                             0\n",
       "Age                                    0\n",
       "birthPlace                            36\n",
       "Height (meters)                       16\n",
       "Position                              13\n",
       "Position 2                             1\n",
       "Foot                                   0\n",
       "nationality                            0\n",
       "Games Played                           0\n",
       "Market Value (Euros)                  12\n",
       "Last Updated Date                     12\n",
       "Accumulated Transfer Sums (Euros)      0\n",
       "Highest Market Value (Euros)         112\n",
       "Highest Market Value Date            112\n",
       "NationalTeamCaps                       0\n",
       "ContractExpYear                        0\n",
       "dtype: int64"
      ]
     },
     "execution_count": 91,
     "metadata": {},
     "output_type": "execute_result"
    }
   ],
   "source": [
    "filtered_df.isnull().sum()"
   ]
  },
  {
   "cell_type": "code",
   "execution_count": 92,
   "metadata": {},
   "outputs": [
    {
     "data": {
      "text/plain": [
       "1543"
      ]
     },
     "execution_count": 92,
     "metadata": {},
     "output_type": "execute_result"
    }
   ],
   "source": [
    "filtered_df['birthPlace'].nunique()"
   ]
  },
  {
   "cell_type": "code",
   "execution_count": 93,
   "metadata": {},
   "outputs": [],
   "source": [
    "#We will be dropping birth place as well for having too many unrelated unique values\n",
    "filtered_df = filtered_df.drop('birthPlace', axis=1)"
   ]
  },
  {
   "cell_type": "code",
   "execution_count": 94,
   "metadata": {},
   "outputs": [
    {
     "data": {
      "text/plain": [
       "1.826606525911712"
      ]
     },
     "execution_count": 94,
     "metadata": {},
     "output_type": "execute_result"
    }
   ],
   "source": [
    "#Next step is filing height with the mean height\n",
    "\n",
    "filtered_df['Height (meters)'].mean()"
   ]
  },
  {
   "cell_type": "code",
   "execution_count": 95,
   "metadata": {},
   "outputs": [],
   "source": [
    "filtered_df['Height (meters)'] = filtered_df['Height (meters)'].fillna(1.82)"
   ]
  },
  {
   "cell_type": "code",
   "execution_count": 96,
   "metadata": {},
   "outputs": [
    {
     "data": {
      "text/html": [
       "<div>\n",
       "<style scoped>\n",
       "    .dataframe tbody tr th:only-of-type {\n",
       "        vertical-align: middle;\n",
       "    }\n",
       "\n",
       "    .dataframe tbody tr th {\n",
       "        vertical-align: top;\n",
       "    }\n",
       "\n",
       "    .dataframe thead th {\n",
       "        text-align: right;\n",
       "    }\n",
       "</style>\n",
       "<table border=\"1\" class=\"dataframe\">\n",
       "  <thead>\n",
       "    <tr style=\"text-align: right;\">\n",
       "      <th></th>\n",
       "      <th>PlayerName</th>\n",
       "      <th>Affiliation</th>\n",
       "      <th>League</th>\n",
       "      <th>Birth Date</th>\n",
       "      <th>Age</th>\n",
       "      <th>Height (meters)</th>\n",
       "      <th>Position</th>\n",
       "      <th>Position 2</th>\n",
       "      <th>Foot</th>\n",
       "      <th>nationality</th>\n",
       "      <th>Games Played</th>\n",
       "      <th>Market Value (Euros)</th>\n",
       "      <th>Last Updated Date</th>\n",
       "      <th>Accumulated Transfer Sums (Euros)</th>\n",
       "      <th>Highest Market Value (Euros)</th>\n",
       "      <th>Highest Market Value Date</th>\n",
       "      <th>NationalTeamCaps</th>\n",
       "      <th>ContractExpYear</th>\n",
       "    </tr>\n",
       "  </thead>\n",
       "  <tbody>\n",
       "    <tr>\n",
       "      <th>52</th>\n",
       "      <td>Niklas Tauer</td>\n",
       "      <td>1.FSV Mainz 05</td>\n",
       "      <td>Bundesliga</td>\n",
       "      <td>2/17/2001</td>\n",
       "      <td>18</td>\n",
       "      <td>1.82</td>\n",
       "      <td>NaN</td>\n",
       "      <td>Contract expires:30.06.2023</td>\n",
       "      <td>right</td>\n",
       "      <td>Germany</td>\n",
       "      <td>2</td>\n",
       "      <td>NaN</td>\n",
       "      <td>NaN</td>\n",
       "      <td>0</td>\n",
       "      <td>NaN</td>\n",
       "      <td>NaN</td>\n",
       "      <td>2</td>\n",
       "      <td>2023.0</td>\n",
       "    </tr>\n",
       "    <tr>\n",
       "      <th>1116</th>\n",
       "      <td>Beni Baningime</td>\n",
       "      <td>Everton</td>\n",
       "      <td>Premier League</td>\n",
       "      <td>9/9/1998</td>\n",
       "      <td>21</td>\n",
       "      <td>1.82</td>\n",
       "      <td>NaN</td>\n",
       "      <td>Contract expires:30.06.2022</td>\n",
       "      <td>right</td>\n",
       "      <td>DR Congo</td>\n",
       "      <td>0</td>\n",
       "      <td>2000000.0</td>\n",
       "      <td>Last update: Jun 13, 2019</td>\n",
       "      <td>0</td>\n",
       "      <td>3000000.0</td>\n",
       "      <td>5/28/2018</td>\n",
       "      <td>0</td>\n",
       "      <td>2022.0</td>\n",
       "    </tr>\n",
       "    <tr>\n",
       "      <th>1155</th>\n",
       "      <td>Kelvin Ofori</td>\n",
       "      <td>F. Dusseldorf</td>\n",
       "      <td>Bundesliga</td>\n",
       "      <td>7/27/2001</td>\n",
       "      <td>18</td>\n",
       "      <td>1.82</td>\n",
       "      <td>NaN</td>\n",
       "      <td>Contract expires:30.06.2022</td>\n",
       "      <td>right</td>\n",
       "      <td>Ghana</td>\n",
       "      <td>1</td>\n",
       "      <td>300000.0</td>\n",
       "      <td>Last update: Aug 7, 2019</td>\n",
       "      <td>0</td>\n",
       "      <td>NaN</td>\n",
       "      <td>NaN</td>\n",
       "      <td>0</td>\n",
       "      <td>2022.0</td>\n",
       "    </tr>\n",
       "    <tr>\n",
       "      <th>2231</th>\n",
       "      <td>Abdallah Ali Mohamed</td>\n",
       "      <td>Marseille</td>\n",
       "      <td>Ligue 1</td>\n",
       "      <td>4/11/1999</td>\n",
       "      <td>20</td>\n",
       "      <td>1.82</td>\n",
       "      <td>NaN</td>\n",
       "      <td>Contract expires:30.06.2022</td>\n",
       "      <td>right</td>\n",
       "      <td>Comoros</td>\n",
       "      <td>0</td>\n",
       "      <td>150000.0</td>\n",
       "      <td>Last update: Jul 24, 2019</td>\n",
       "      <td>0</td>\n",
       "      <td>NaN</td>\n",
       "      <td>NaN</td>\n",
       "      <td>5</td>\n",
       "      <td>2022.0</td>\n",
       "    </tr>\n",
       "    <tr>\n",
       "      <th>2253</th>\n",
       "      <td>Simon Ngapandouetnbu</td>\n",
       "      <td>Marseille</td>\n",
       "      <td>Ligue 1</td>\n",
       "      <td>4/12/2003</td>\n",
       "      <td>16</td>\n",
       "      <td>1.82</td>\n",
       "      <td>NaN</td>\n",
       "      <td>Contract expires:30.06.2022</td>\n",
       "      <td>right</td>\n",
       "      <td>Cameroon</td>\n",
       "      <td>0</td>\n",
       "      <td>NaN</td>\n",
       "      <td>NaN</td>\n",
       "      <td>0</td>\n",
       "      <td>NaN</td>\n",
       "      <td>NaN</td>\n",
       "      <td>0</td>\n",
       "      <td>2022.0</td>\n",
       "    </tr>\n",
       "    <tr>\n",
       "      <th>2445</th>\n",
       "      <td>Boubacar Fofana</td>\n",
       "      <td>Olympique Lyon</td>\n",
       "      <td>Ligue 1</td>\n",
       "      <td>9/7/1998</td>\n",
       "      <td>21</td>\n",
       "      <td>1.82</td>\n",
       "      <td>NaN</td>\n",
       "      <td>Contract expires:30.06.2023</td>\n",
       "      <td>both</td>\n",
       "      <td>France</td>\n",
       "      <td>0</td>\n",
       "      <td>200000.0</td>\n",
       "      <td>Last update: Jun 27, 2019</td>\n",
       "      <td>0</td>\n",
       "      <td>NaN</td>\n",
       "      <td>NaN</td>\n",
       "      <td>0</td>\n",
       "      <td>2023.0</td>\n",
       "    </tr>\n",
       "    <tr>\n",
       "      <th>2690</th>\n",
       "      <td>Mads Bidstrup</td>\n",
       "      <td>RB Leipzig</td>\n",
       "      <td>Bundesliga</td>\n",
       "      <td>2/25/2001</td>\n",
       "      <td>18</td>\n",
       "      <td>1.82</td>\n",
       "      <td>NaN</td>\n",
       "      <td>Contract expires:30.06.2023</td>\n",
       "      <td>right</td>\n",
       "      <td>Denmark</td>\n",
       "      <td>1</td>\n",
       "      <td>1000000.0</td>\n",
       "      <td>Last update: Jul 28, 2019</td>\n",
       "      <td>2000000</td>\n",
       "      <td>NaN</td>\n",
       "      <td>NaN</td>\n",
       "      <td>7</td>\n",
       "      <td>2023.0</td>\n",
       "    </tr>\n",
       "    <tr>\n",
       "      <th>3173</th>\n",
       "      <td>Abdoulaye Toure</td>\n",
       "      <td>SC Amiens</td>\n",
       "      <td>Ligue 1</td>\n",
       "      <td>10/14/2000</td>\n",
       "      <td>19</td>\n",
       "      <td>1.82</td>\n",
       "      <td>NaN</td>\n",
       "      <td>Contract expires:-</td>\n",
       "      <td>right</td>\n",
       "      <td>France</td>\n",
       "      <td>8</td>\n",
       "      <td>NaN</td>\n",
       "      <td>NaN</td>\n",
       "      <td>0</td>\n",
       "      <td>NaN</td>\n",
       "      <td>NaN</td>\n",
       "      <td>0</td>\n",
       "      <td>2022.0</td>\n",
       "    </tr>\n",
       "    <tr>\n",
       "      <th>3182</th>\n",
       "      <td>Darell Tokpa</td>\n",
       "      <td>SC Amiens</td>\n",
       "      <td>Ligue 1</td>\n",
       "      <td>6/2/2001</td>\n",
       "      <td>18</td>\n",
       "      <td>1.82</td>\n",
       "      <td>NaN</td>\n",
       "      <td>Contract expires:30.06.2022</td>\n",
       "      <td>right</td>\n",
       "      <td>France</td>\n",
       "      <td>0</td>\n",
       "      <td>NaN</td>\n",
       "      <td>NaN</td>\n",
       "      <td>0</td>\n",
       "      <td>NaN</td>\n",
       "      <td>NaN</td>\n",
       "      <td>0</td>\n",
       "      <td>2022.0</td>\n",
       "    </tr>\n",
       "    <tr>\n",
       "      <th>3192</th>\n",
       "      <td>Madih Talal</td>\n",
       "      <td>SC Amiens</td>\n",
       "      <td>Ligue 1</td>\n",
       "      <td>8/17/1997</td>\n",
       "      <td>22</td>\n",
       "      <td>1.82</td>\n",
       "      <td>NaN</td>\n",
       "      <td>Contract expires:-</td>\n",
       "      <td>right</td>\n",
       "      <td>France</td>\n",
       "      <td>0</td>\n",
       "      <td>300000.0</td>\n",
       "      <td>Last update: Jun 28, 2019</td>\n",
       "      <td>0</td>\n",
       "      <td>300000.0</td>\n",
       "      <td>6/28/2019</td>\n",
       "      <td>0</td>\n",
       "      <td>2022.0</td>\n",
       "    </tr>\n",
       "    <tr>\n",
       "      <th>3242</th>\n",
       "      <td>Dominik Bilogrevic</td>\n",
       "      <td>SC Paderborn</td>\n",
       "      <td>Bundesliga</td>\n",
       "      <td>1/2/1999</td>\n",
       "      <td>20</td>\n",
       "      <td>1.82</td>\n",
       "      <td>NaN</td>\n",
       "      <td>Contract expires:30.06.2021</td>\n",
       "      <td>right</td>\n",
       "      <td>Croatia</td>\n",
       "      <td>3</td>\n",
       "      <td>50000.0</td>\n",
       "      <td>Last update: Oct 2, 2019</td>\n",
       "      <td>0</td>\n",
       "      <td>NaN</td>\n",
       "      <td>NaN</td>\n",
       "      <td>2</td>\n",
       "      <td>2021.0</td>\n",
       "    </tr>\n",
       "    <tr>\n",
       "      <th>3291</th>\n",
       "      <td>Zinedine Ould Khaled</td>\n",
       "      <td>SCO Angers</td>\n",
       "      <td>Ligue 1</td>\n",
       "      <td>1/14/2000</td>\n",
       "      <td>19</td>\n",
       "      <td>1.82</td>\n",
       "      <td>NaN</td>\n",
       "      <td>Contract expires:-</td>\n",
       "      <td>right</td>\n",
       "      <td>France</td>\n",
       "      <td>0</td>\n",
       "      <td>NaN</td>\n",
       "      <td>NaN</td>\n",
       "      <td>0</td>\n",
       "      <td>NaN</td>\n",
       "      <td>NaN</td>\n",
       "      <td>0</td>\n",
       "      <td>2022.0</td>\n",
       "    </tr>\n",
       "    <tr>\n",
       "      <th>3887</th>\n",
       "      <td>Leo Oppermann</td>\n",
       "      <td>Union Berlin</td>\n",
       "      <td>Bundesliga</td>\n",
       "      <td>8/28/2001</td>\n",
       "      <td>18</td>\n",
       "      <td>1.82</td>\n",
       "      <td>NaN</td>\n",
       "      <td>Contract expires:30.06.2020</td>\n",
       "      <td>right</td>\n",
       "      <td>Germany</td>\n",
       "      <td>15</td>\n",
       "      <td>50000.0</td>\n",
       "      <td>Last update: Oct 2, 2019</td>\n",
       "      <td>0</td>\n",
       "      <td>NaN</td>\n",
       "      <td>NaN</td>\n",
       "      <td>0</td>\n",
       "      <td>2020.0</td>\n",
       "    </tr>\n",
       "  </tbody>\n",
       "</table>\n",
       "</div>"
      ],
      "text/plain": [
       "                PlayerName     Affiliation          League  Birth Date  Age  \\\n",
       "52            Niklas Tauer  1.FSV Mainz 05      Bundesliga   2/17/2001   18   \n",
       "1116        Beni Baningime         Everton  Premier League    9/9/1998   21   \n",
       "1155          Kelvin Ofori   F. Dusseldorf      Bundesliga   7/27/2001   18   \n",
       "2231  Abdallah Ali Mohamed       Marseille         Ligue 1   4/11/1999   20   \n",
       "2253  Simon Ngapandouetnbu       Marseille         Ligue 1   4/12/2003   16   \n",
       "2445       Boubacar Fofana  Olympique Lyon         Ligue 1    9/7/1998   21   \n",
       "2690         Mads Bidstrup      RB Leipzig      Bundesliga   2/25/2001   18   \n",
       "3173       Abdoulaye Toure       SC Amiens         Ligue 1  10/14/2000   19   \n",
       "3182          Darell Tokpa       SC Amiens         Ligue 1    6/2/2001   18   \n",
       "3192           Madih Talal       SC Amiens         Ligue 1   8/17/1997   22   \n",
       "3242    Dominik Bilogrevic    SC Paderborn      Bundesliga    1/2/1999   20   \n",
       "3291  Zinedine Ould Khaled      SCO Angers         Ligue 1   1/14/2000   19   \n",
       "3887         Leo Oppermann    Union Berlin      Bundesliga   8/28/2001   18   \n",
       "\n",
       "      Height (meters) Position                   Position 2   Foot  \\\n",
       "52               1.82      NaN  Contract expires:30.06.2023  right   \n",
       "1116             1.82      NaN  Contract expires:30.06.2022  right   \n",
       "1155             1.82      NaN  Contract expires:30.06.2022  right   \n",
       "2231             1.82      NaN  Contract expires:30.06.2022  right   \n",
       "2253             1.82      NaN  Contract expires:30.06.2022  right   \n",
       "2445             1.82      NaN  Contract expires:30.06.2023   both   \n",
       "2690             1.82      NaN  Contract expires:30.06.2023  right   \n",
       "3173             1.82      NaN           Contract expires:-  right   \n",
       "3182             1.82      NaN  Contract expires:30.06.2022  right   \n",
       "3192             1.82      NaN           Contract expires:-  right   \n",
       "3242             1.82      NaN  Contract expires:30.06.2021  right   \n",
       "3291             1.82      NaN           Contract expires:-  right   \n",
       "3887             1.82      NaN  Contract expires:30.06.2020  right   \n",
       "\n",
       "     nationality  Games Played  Market Value (Euros)  \\\n",
       "52       Germany             2                   NaN   \n",
       "1116    DR Congo             0             2000000.0   \n",
       "1155       Ghana             1              300000.0   \n",
       "2231     Comoros             0              150000.0   \n",
       "2253    Cameroon             0                   NaN   \n",
       "2445      France             0              200000.0   \n",
       "2690     Denmark             1             1000000.0   \n",
       "3173      France             8                   NaN   \n",
       "3182      France             0                   NaN   \n",
       "3192      France             0              300000.0   \n",
       "3242     Croatia             3               50000.0   \n",
       "3291      France             0                   NaN   \n",
       "3887     Germany            15               50000.0   \n",
       "\n",
       "              Last Updated Date  Accumulated Transfer Sums (Euros)  \\\n",
       "52                          NaN                                  0   \n",
       "1116  Last update: Jun 13, 2019                                  0   \n",
       "1155   Last update: Aug 7, 2019                                  0   \n",
       "2231  Last update: Jul 24, 2019                                  0   \n",
       "2253                        NaN                                  0   \n",
       "2445  Last update: Jun 27, 2019                                  0   \n",
       "2690  Last update: Jul 28, 2019                            2000000   \n",
       "3173                        NaN                                  0   \n",
       "3182                        NaN                                  0   \n",
       "3192  Last update: Jun 28, 2019                                  0   \n",
       "3242   Last update: Oct 2, 2019                                  0   \n",
       "3291                        NaN                                  0   \n",
       "3887   Last update: Oct 2, 2019                                  0   \n",
       "\n",
       "      Highest Market Value (Euros) Highest Market Value Date  \\\n",
       "52                             NaN                       NaN   \n",
       "1116                     3000000.0                 5/28/2018   \n",
       "1155                           NaN                       NaN   \n",
       "2231                           NaN                       NaN   \n",
       "2253                           NaN                       NaN   \n",
       "2445                           NaN                       NaN   \n",
       "2690                           NaN                       NaN   \n",
       "3173                           NaN                       NaN   \n",
       "3182                           NaN                       NaN   \n",
       "3192                      300000.0                 6/28/2019   \n",
       "3242                           NaN                       NaN   \n",
       "3291                           NaN                       NaN   \n",
       "3887                           NaN                       NaN   \n",
       "\n",
       "      NationalTeamCaps  ContractExpYear  \n",
       "52                   2           2023.0  \n",
       "1116                 0           2022.0  \n",
       "1155                 0           2022.0  \n",
       "2231                 5           2022.0  \n",
       "2253                 0           2022.0  \n",
       "2445                 0           2023.0  \n",
       "2690                 7           2023.0  \n",
       "3173                 0           2022.0  \n",
       "3182                 0           2022.0  \n",
       "3192                 0           2022.0  \n",
       "3242                 2           2021.0  \n",
       "3291                 0           2022.0  \n",
       "3887                 0           2020.0  "
      ]
     },
     "execution_count": 96,
     "metadata": {},
     "output_type": "execute_result"
    }
   ],
   "source": [
    "filtered_df[filtered_df['Position'].isna()]"
   ]
  },
  {
   "cell_type": "markdown",
   "metadata": {},
   "source": [
    "As we see above that alongside Position, we don't have position 2 as well. For half of these values, market value is also missing. It would be better if we just drop this data."
   ]
  },
  {
   "cell_type": "code",
   "execution_count": 97,
   "metadata": {},
   "outputs": [],
   "source": [
    "filtered_df = filtered_df.dropna(axis=0, subset=['Position'])"
   ]
  },
  {
   "cell_type": "code",
   "execution_count": 98,
   "metadata": {},
   "outputs": [
    {
     "data": {
      "text/plain": [
       "array(['Forward ', 'Defender ', 'Midfielder ', 'Goalkeeper',\n",
       "       'Position:                            Goalkeeper',\n",
       "       'Position:                            Left',\n",
       "       'Position:                            Centre',\n",
       "       'Position:                            Attacking Midfield',\n",
       "       'Position:                            Central Midfield',\n",
       "       'Position:                            Right',\n",
       "       'Position:                            Defensive Midfield'],\n",
       "      dtype=object)"
      ]
     },
     "execution_count": 98,
     "metadata": {},
     "output_type": "execute_result"
    }
   ],
   "source": [
    "filtered_df['Position'].unique()"
   ]
  },
  {
   "cell_type": "code",
   "execution_count": 99,
   "metadata": {},
   "outputs": [],
   "source": [
    "def pos_set(col):\n",
    "    if col == 'Position:                            Goalkeeper':\n",
    "        return 'Goalkeeper'\n",
    "    elif col == 'Position:                            Left':\n",
    "        return 'Defender '\n",
    "    elif col == 'Position:                            Attacking Midfield':\n",
    "        return 'Midfielder '\n",
    "    elif col == 'Position:                            Central Midfield':\n",
    "        return 'Midfielder '\n",
    "    elif col == 'Position:                            Right':\n",
    "        return 'Defender '\n",
    "    elif col == 'Position:                            Defensive Midfield':\n",
    "        return 'Midfielder '\n",
    "    else:\n",
    "        return col\n",
    "\n",
    "filtered_df['Position']= filtered_df['Position'].apply(pos_set)"
   ]
  },
  {
   "cell_type": "code",
   "execution_count": 100,
   "metadata": {},
   "outputs": [
    {
     "data": {
      "text/plain": [
       "828     Position:                            Centre\n",
       "2691    Position:                            Centre\n",
       "3760    Position:                            Centre\n",
       "3765    Position:                            Centre\n",
       "3782    Position:                            Centre\n",
       "Name: Position, dtype: object"
      ]
     },
     "execution_count": 100,
     "metadata": {},
     "output_type": "execute_result"
    }
   ],
   "source": [
    "filtered_df[(filtered_df['Position']=='Position:                            Centre') & (filtered_df['Position 2'] == 'Centre-Back')]['Position']"
   ]
  },
  {
   "cell_type": "code",
   "execution_count": 101,
   "metadata": {},
   "outputs": [],
   "source": [
    "filtered_df.loc[[828,2691,3760,3765,3782], 'Position'] = 'Defender ' "
   ]
  },
  {
   "cell_type": "code",
   "execution_count": 102,
   "metadata": {},
   "outputs": [
    {
     "data": {
      "text/plain": [
       "1217    Position:                            Centre\n",
       "3786    Position:                            Centre\n",
       "Name: Position, dtype: object"
      ]
     },
     "execution_count": 102,
     "metadata": {},
     "output_type": "execute_result"
    }
   ],
   "source": [
    "filtered_df[(filtered_df['Position']=='Position:                            Centre') & (filtered_df['Position 2'] == 'Centre-Forward')]['Position']"
   ]
  },
  {
   "cell_type": "code",
   "execution_count": 103,
   "metadata": {},
   "outputs": [],
   "source": [
    "filtered_df.loc[[1217,3786], 'Position'] = 'Forward ' "
   ]
  },
  {
   "cell_type": "code",
   "execution_count": 104,
   "metadata": {},
   "outputs": [
    {
     "data": {
      "text/plain": [
       "Defender       891\n",
       "Midfielder     735\n",
       "Forward        685\n",
       "Goalkeeper     297\n",
       "Name: Position, dtype: int64"
      ]
     },
     "execution_count": 104,
     "metadata": {},
     "output_type": "execute_result"
    }
   ],
   "source": [
    "filtered_df['Position'].value_counts()"
   ]
  },
  {
   "cell_type": "markdown",
   "metadata": {},
   "source": [
    "**Now that we have cleaned the position column, we can check its relation with the market value**"
   ]
  },
  {
   "cell_type": "code",
   "execution_count": 105,
   "metadata": {},
   "outputs": [
    {
     "data": {
      "text/plain": [
       "<AxesSubplot:xlabel='Position', ylabel='Market Value (Euros)'>"
      ]
     },
     "execution_count": 105,
     "metadata": {},
     "output_type": "execute_result"
    },
    {
     "data": {
      "image/png": "[encoded data removed]",
      "text/plain": [
       "<Figure size 432x288 with 1 Axes>"
      ]
     },
     "metadata": {
      "needs_background": "light"
     },
     "output_type": "display_data"
    }
   ],
   "source": [
    "sns.barplot(x='Position', y='Market Value (Euros)', data= filtered_df)"
   ]
  },
  {
   "cell_type": "markdown",
   "metadata": {},
   "source": [
    "**We can see that forwards and midfielders have more transfer value than defenders and goalkeepers**"
   ]
  },
  {
   "cell_type": "code",
   "execution_count": 106,
   "metadata": {},
   "outputs": [
    {
     "data": {
      "text/plain": [
       "PlayerName                             0\n",
       "Affiliation                            0\n",
       "League                                 0\n",
       "Birth Date                             0\n",
       "Age                                    0\n",
       "Height (meters)                        0\n",
       "Position                               0\n",
       "Position 2                             1\n",
       "Foot                                   0\n",
       "nationality                            0\n",
       "Games Played                           0\n",
       "Market Value (Euros)                   7\n",
       "Last Updated Date                      7\n",
       "Accumulated Transfer Sums (Euros)      0\n",
       "Highest Market Value (Euros)         101\n",
       "Highest Market Value Date            101\n",
       "NationalTeamCaps                       0\n",
       "ContractExpYear                        0\n",
       "dtype: int64"
      ]
     },
     "execution_count": 106,
     "metadata": {},
     "output_type": "execute_result"
    }
   ],
   "source": [
    "filtered_df.isnull().sum()"
   ]
  },
  {
   "cell_type": "code",
   "execution_count": 107,
   "metadata": {},
   "outputs": [
    {
     "data": {
      "text/plain": [
       "array(['Centre-Forward', 'Right-Back', 'Defensive Midfield', 'Goalkeeper',\n",
       "       'Right Midfield', 'Left Winger', 'Attacking Midfield', 'Left-Back',\n",
       "       'Centre-Back', 'Right Winger', 'Central Midfield',\n",
       "       'Second Striker', 'Contract expires:30.06.2023', 'Left Midfield',\n",
       "       'Contract expires:30.06.2021', nan, 'Contract expires:30.06.2025'],\n",
       "      dtype=object)"
      ]
     },
     "execution_count": 107,
     "metadata": {},
     "output_type": "execute_result"
    }
   ],
   "source": [
    "filtered_df['Position 2'].unique()"
   ]
  },
  {
   "cell_type": "code",
   "execution_count": 108,
   "metadata": {},
   "outputs": [],
   "source": [
    "#We already have secured position data as we have seen above. We can drop Position 2 column\n",
    "filtered_df = filtered_df.drop('Position 2', axis=1) "
   ]
  },
  {
   "cell_type": "code",
   "execution_count": 109,
   "metadata": {},
   "outputs": [],
   "source": [
    "#We are going to drop last updated date as well, as it is of no use to us\n",
    "filtered_df = filtered_df.drop('Last Updated Date', axis=1) "
   ]
  },
  {
   "cell_type": "code",
   "execution_count": 110,
   "metadata": {
    "scrolled": true
   },
   "outputs": [
    {
     "data": {
      "text/plain": [
       "Age                                 -0.058448\n",
       "Height (meters)                     -0.067469\n",
       "Games Played                        -0.008184\n",
       "Market Value (Euros)                 1.000000\n",
       "Accumulated Transfer Sums (Euros)    0.603916\n",
       "Highest Market Value (Euros)         0.960013\n",
       "NationalTeamCaps                     0.335190\n",
       "ContractExpYear                      0.321329\n",
       "Name: Market Value (Euros), dtype: float64"
      ]
     },
     "execution_count": 110,
     "metadata": {},
     "output_type": "execute_result"
    }
   ],
   "source": [
    "filtered_df.corr()['Market Value (Euros)']"
   ]
  },
  {
   "cell_type": "code",
   "execution_count": 111,
   "metadata": {},
   "outputs": [
    {
     "data": {
      "text/plain": [
       "6027740.740740741"
      ]
     },
     "execution_count": 111,
     "metadata": {},
     "output_type": "execute_result"
    }
   ],
   "source": [
    "#Let's fill in the missing market values based on their Accumulated Transfer Sums (Euros) \n",
    "#We did not pick highest market value here even though the correlation is 96% because it has null values\n",
    "mgb= filtered_df.groupby('Accumulated Transfer Sums (Euros)').mean()['Market Value (Euros)']\n",
    "mgb[0]"
   ]
  },
  {
   "cell_type": "code",
   "execution_count": 112,
   "metadata": {},
   "outputs": [],
   "source": [
    "def fill_market_val(acc_value, market_value):\n",
    "    if np.isnan(market_value):\n",
    "        return mgb[acc_value]\n",
    "    else:\n",
    "        return market_value"
   ]
  },
  {
   "cell_type": "code",
   "execution_count": 113,
   "metadata": {},
   "outputs": [],
   "source": [
    "filtered_df['Market Value (Euros)'] = filtered_df.apply(lambda x: fill_market_val(x['Accumulated Transfer Sums (Euros)'] , x['Market Value (Euros)']), axis=1)"
   ]
  },
  {
   "cell_type": "code",
   "execution_count": 114,
   "metadata": {},
   "outputs": [
    {
     "data": {
      "text/plain": [
       "PlayerName                             0\n",
       "Affiliation                            0\n",
       "League                                 0\n",
       "Birth Date                             0\n",
       "Age                                    0\n",
       "Height (meters)                        0\n",
       "Position                               0\n",
       "Foot                                   0\n",
       "nationality                            0\n",
       "Games Played                           0\n",
       "Market Value (Euros)                   0\n",
       "Accumulated Transfer Sums (Euros)      0\n",
       "Highest Market Value (Euros)         101\n",
       "Highest Market Value Date            101\n",
       "NationalTeamCaps                       0\n",
       "ContractExpYear                        0\n",
       "dtype: int64"
      ]
     },
     "execution_count": 114,
     "metadata": {},
     "output_type": "execute_result"
    }
   ],
   "source": [
    "filtered_df.isnull().sum()"
   ]
  },
  {
   "cell_type": "code",
   "execution_count": 115,
   "metadata": {},
   "outputs": [
    {
     "data": {
      "text/html": [
       "<div>\n",
       "<style scoped>\n",
       "    .dataframe tbody tr th:only-of-type {\n",
       "        vertical-align: middle;\n",
       "    }\n",
       "\n",
       "    .dataframe tbody tr th {\n",
       "        vertical-align: top;\n",
       "    }\n",
       "\n",
       "    .dataframe thead th {\n",
       "        text-align: right;\n",
       "    }\n",
       "</style>\n",
       "<table border=\"1\" class=\"dataframe\">\n",
       "  <thead>\n",
       "    <tr style=\"text-align: right;\">\n",
       "      <th></th>\n",
       "      <th>PlayerName</th>\n",
       "      <th>Affiliation</th>\n",
       "      <th>League</th>\n",
       "      <th>Birth Date</th>\n",
       "      <th>Age</th>\n",
       "      <th>Height (meters)</th>\n",
       "      <th>Position</th>\n",
       "      <th>Foot</th>\n",
       "      <th>nationality</th>\n",
       "      <th>Games Played</th>\n",
       "      <th>Market Value (Euros)</th>\n",
       "      <th>Accumulated Transfer Sums (Euros)</th>\n",
       "      <th>Highest Market Value (Euros)</th>\n",
       "      <th>Highest Market Value Date</th>\n",
       "      <th>NationalTeamCaps</th>\n",
       "      <th>ContractExpYear</th>\n",
       "    </tr>\n",
       "  </thead>\n",
       "  <tbody>\n",
       "    <tr>\n",
       "      <th>5</th>\n",
       "      <td>Darko Churlinov</td>\n",
       "      <td>1. FC Koln</td>\n",
       "      <td>Bundesliga</td>\n",
       "      <td>7/11/2000</td>\n",
       "      <td>19</td>\n",
       "      <td>1.80</td>\n",
       "      <td>Forward</td>\n",
       "      <td>right</td>\n",
       "      <td>North Macedonia</td>\n",
       "      <td>6</td>\n",
       "      <td>4.000000e+05</td>\n",
       "      <td>0</td>\n",
       "      <td>NaN</td>\n",
       "      <td>NaN</td>\n",
       "      <td>1</td>\n",
       "      <td>2020.0</td>\n",
       "    </tr>\n",
       "    <tr>\n",
       "      <th>50</th>\n",
       "      <td>Merveille Papela</td>\n",
       "      <td>1.FSV Mainz 05</td>\n",
       "      <td>Bundesliga</td>\n",
       "      <td>1/18/2001</td>\n",
       "      <td>18</td>\n",
       "      <td>1.74</td>\n",
       "      <td>Midfielder</td>\n",
       "      <td>right</td>\n",
       "      <td>Germany</td>\n",
       "      <td>1</td>\n",
       "      <td>6.027741e+06</td>\n",
       "      <td>0</td>\n",
       "      <td>NaN</td>\n",
       "      <td>NaN</td>\n",
       "      <td>4</td>\n",
       "      <td>2023.0</td>\n",
       "    </tr>\n",
       "    <tr>\n",
       "      <th>173</th>\n",
       "      <td>Borja Sainz</td>\n",
       "      <td>Alaves</td>\n",
       "      <td>LaLiga</td>\n",
       "      <td>2/1/2001</td>\n",
       "      <td>18</td>\n",
       "      <td>1.82</td>\n",
       "      <td>Forward</td>\n",
       "      <td>right</td>\n",
       "      <td>Spain</td>\n",
       "      <td>0</td>\n",
       "      <td>6.027741e+06</td>\n",
       "      <td>0</td>\n",
       "      <td>NaN</td>\n",
       "      <td>NaN</td>\n",
       "      <td>3</td>\n",
       "      <td>2022.0</td>\n",
       "    </tr>\n",
       "    <tr>\n",
       "      <th>198</th>\n",
       "      <td>Bukayo Saka</td>\n",
       "      <td>Arsenal</td>\n",
       "      <td>Premier League</td>\n",
       "      <td>9/5/2001</td>\n",
       "      <td>18</td>\n",
       "      <td>1.78</td>\n",
       "      <td>Forward</td>\n",
       "      <td>left</td>\n",
       "      <td>England</td>\n",
       "      <td>0</td>\n",
       "      <td>7.000000e+06</td>\n",
       "      <td>0</td>\n",
       "      <td>NaN</td>\n",
       "      <td>NaN</td>\n",
       "      <td>8</td>\n",
       "      <td>2022.0</td>\n",
       "    </tr>\n",
       "    <tr>\n",
       "      <th>557</th>\n",
       "      <td>Luca Unbehaun</td>\n",
       "      <td>Bor. Dortmund</td>\n",
       "      <td>Bundesliga</td>\n",
       "      <td>2/27/2001</td>\n",
       "      <td>18</td>\n",
       "      <td>1.86</td>\n",
       "      <td>Goalkeeper</td>\n",
       "      <td>right</td>\n",
       "      <td>Germany</td>\n",
       "      <td>5</td>\n",
       "      <td>4.000000e+05</td>\n",
       "      <td>0</td>\n",
       "      <td>NaN</td>\n",
       "      <td>NaN</td>\n",
       "      <td>0</td>\n",
       "      <td>2022.0</td>\n",
       "    </tr>\n",
       "    <tr>\n",
       "      <th>...</th>\n",
       "      <td>...</td>\n",
       "      <td>...</td>\n",
       "      <td>...</td>\n",
       "      <td>...</td>\n",
       "      <td>...</td>\n",
       "      <td>...</td>\n",
       "      <td>...</td>\n",
       "      <td>...</td>\n",
       "      <td>...</td>\n",
       "      <td>...</td>\n",
       "      <td>...</td>\n",
       "      <td>...</td>\n",
       "      <td>...</td>\n",
       "      <td>...</td>\n",
       "      <td>...</td>\n",
       "      <td>...</td>\n",
       "    </tr>\n",
       "    <tr>\n",
       "      <th>4152</th>\n",
       "      <td>David Philipp</td>\n",
       "      <td>Werder Bremen</td>\n",
       "      <td>Bundesliga</td>\n",
       "      <td>4/10/2000</td>\n",
       "      <td>19</td>\n",
       "      <td>1.80</td>\n",
       "      <td>Midfielder</td>\n",
       "      <td>both</td>\n",
       "      <td>Germany</td>\n",
       "      <td>5</td>\n",
       "      <td>1.000000e+05</td>\n",
       "      <td>0</td>\n",
       "      <td>NaN</td>\n",
       "      <td>NaN</td>\n",
       "      <td>3</td>\n",
       "      <td>2022.0</td>\n",
       "    </tr>\n",
       "    <tr>\n",
       "      <th>4155</th>\n",
       "      <td>Ilia Gruev</td>\n",
       "      <td>Werder Bremen</td>\n",
       "      <td>Bundesliga</td>\n",
       "      <td>5/6/2000</td>\n",
       "      <td>19</td>\n",
       "      <td>1.85</td>\n",
       "      <td>Midfielder</td>\n",
       "      <td>right</td>\n",
       "      <td>Bulgaria</td>\n",
       "      <td>2</td>\n",
       "      <td>2.000000e+05</td>\n",
       "      <td>0</td>\n",
       "      <td>NaN</td>\n",
       "      <td>NaN</td>\n",
       "      <td>2</td>\n",
       "      <td>2020.0</td>\n",
       "    </tr>\n",
       "    <tr>\n",
       "      <th>4161</th>\n",
       "      <td>Luc Ihorst</td>\n",
       "      <td>Werder Bremen</td>\n",
       "      <td>Bundesliga</td>\n",
       "      <td>3/7/2000</td>\n",
       "      <td>19</td>\n",
       "      <td>1.90</td>\n",
       "      <td>Forward</td>\n",
       "      <td>both</td>\n",
       "      <td>Germany</td>\n",
       "      <td>4</td>\n",
       "      <td>1.500000e+05</td>\n",
       "      <td>0</td>\n",
       "      <td>NaN</td>\n",
       "      <td>NaN</td>\n",
       "      <td>3</td>\n",
       "      <td>2021.0</td>\n",
       "    </tr>\n",
       "    <tr>\n",
       "      <th>4235</th>\n",
       "      <td>Harry Burgoyne</td>\n",
       "      <td>Wolves</td>\n",
       "      <td>Premier League</td>\n",
       "      <td>12/28/1996</td>\n",
       "      <td>22</td>\n",
       "      <td>1.93</td>\n",
       "      <td>Goalkeeper</td>\n",
       "      <td>right</td>\n",
       "      <td>England</td>\n",
       "      <td>57</td>\n",
       "      <td>2.000000e+05</td>\n",
       "      <td>0</td>\n",
       "      <td>NaN</td>\n",
       "      <td>NaN</td>\n",
       "      <td>0</td>\n",
       "      <td>2020.0</td>\n",
       "    </tr>\n",
       "    <tr>\n",
       "      <th>4243</th>\n",
       "      <td>Max Kilman</td>\n",
       "      <td>Wolves</td>\n",
       "      <td>Premier League</td>\n",
       "      <td>5/23/1997</td>\n",
       "      <td>22</td>\n",
       "      <td>1.92</td>\n",
       "      <td>Defender</td>\n",
       "      <td>left</td>\n",
       "      <td>England</td>\n",
       "      <td>0</td>\n",
       "      <td>6.027741e+06</td>\n",
       "      <td>0</td>\n",
       "      <td>NaN</td>\n",
       "      <td>NaN</td>\n",
       "      <td>0</td>\n",
       "      <td>2022.0</td>\n",
       "    </tr>\n",
       "  </tbody>\n",
       "</table>\n",
       "<p>101 rows × 16 columns</p>\n",
       "</div>"
      ],
      "text/plain": [
       "            PlayerName     Affiliation          League  Birth Date  Age  \\\n",
       "5      Darko Churlinov      1. FC Koln      Bundesliga   7/11/2000   19   \n",
       "50    Merveille Papela  1.FSV Mainz 05      Bundesliga   1/18/2001   18   \n",
       "173        Borja Sainz          Alaves          LaLiga    2/1/2001   18   \n",
       "198        Bukayo Saka         Arsenal  Premier League    9/5/2001   18   \n",
       "557      Luca Unbehaun   Bor. Dortmund      Bundesliga   2/27/2001   18   \n",
       "...                ...             ...             ...         ...  ...   \n",
       "4152     David Philipp   Werder Bremen      Bundesliga   4/10/2000   19   \n",
       "4155        Ilia Gruev   Werder Bremen      Bundesliga    5/6/2000   19   \n",
       "4161        Luc Ihorst   Werder Bremen      Bundesliga    3/7/2000   19   \n",
       "4235    Harry Burgoyne          Wolves  Premier League  12/28/1996   22   \n",
       "4243        Max Kilman          Wolves  Premier League   5/23/1997   22   \n",
       "\n",
       "      Height (meters)     Position   Foot      nationality  Games Played  \\\n",
       "5                1.80     Forward   right  North Macedonia             6   \n",
       "50               1.74  Midfielder   right          Germany             1   \n",
       "173              1.82     Forward   right            Spain             0   \n",
       "198              1.78     Forward    left          England             0   \n",
       "557              1.86   Goalkeeper  right          Germany             5   \n",
       "...               ...          ...    ...              ...           ...   \n",
       "4152             1.80  Midfielder    both          Germany             5   \n",
       "4155             1.85  Midfielder   right         Bulgaria             2   \n",
       "4161             1.90     Forward    both          Germany             4   \n",
       "4235             1.93   Goalkeeper  right          England            57   \n",
       "4243             1.92    Defender    left          England             0   \n",
       "\n",
       "      Market Value (Euros)  Accumulated Transfer Sums (Euros)  \\\n",
       "5             4.000000e+05                                  0   \n",
       "50            6.027741e+06                                  0   \n",
       "173           6.027741e+06                                  0   \n",
       "198           7.000000e+06                                  0   \n",
       "557           4.000000e+05                                  0   \n",
       "...                    ...                                ...   \n",
       "4152          1.000000e+05                                  0   \n",
       "4155          2.000000e+05                                  0   \n",
       "4161          1.500000e+05                                  0   \n",
       "4235          2.000000e+05                                  0   \n",
       "4243          6.027741e+06                                  0   \n",
       "\n",
       "      Highest Market Value (Euros) Highest Market Value Date  \\\n",
       "5                              NaN                       NaN   \n",
       "50                             NaN                       NaN   \n",
       "173                            NaN                       NaN   \n",
       "198                            NaN                       NaN   \n",
       "557                            NaN                       NaN   \n",
       "...                            ...                       ...   \n",
       "4152                           NaN                       NaN   \n",
       "4155                           NaN                       NaN   \n",
       "4161                           NaN                       NaN   \n",
       "4235                           NaN                       NaN   \n",
       "4243                           NaN                       NaN   \n",
       "\n",
       "      NationalTeamCaps  ContractExpYear  \n",
       "5                    1           2020.0  \n",
       "50                   4           2023.0  \n",
       "173                  3           2022.0  \n",
       "198                  8           2022.0  \n",
       "557                  0           2022.0  \n",
       "...                ...              ...  \n",
       "4152                 3           2022.0  \n",
       "4155                 2           2020.0  \n",
       "4161                 3           2021.0  \n",
       "4235                 0           2020.0  \n",
       "4243                 0           2022.0  \n",
       "\n",
       "[101 rows x 16 columns]"
      ]
     },
     "execution_count": 115,
     "metadata": {},
     "output_type": "execute_result"
    }
   ],
   "source": [
    "filtered_df[filtered_df['Highest Market Value (Euros)'].isna()]"
   ]
  },
  {
   "cell_type": "code",
   "execution_count": 116,
   "metadata": {},
   "outputs": [
    {
     "data": {
      "text/plain": [
       "Age                                  0.022853\n",
       "Height (meters)                     -0.071813\n",
       "Games Played                        -0.004892\n",
       "Market Value (Euros)                 0.960013\n",
       "Accumulated Transfer Sums (Euros)    0.678873\n",
       "Highest Market Value (Euros)         1.000000\n",
       "NationalTeamCaps                     0.448312\n",
       "ContractExpYear                      0.248153\n",
       "Name: Highest Market Value (Euros), dtype: float64"
      ]
     },
     "execution_count": 116,
     "metadata": {},
     "output_type": "execute_result"
    }
   ],
   "source": [
    "#Now we need to fill the highest market value column\n",
    "filtered_df.corr()['Highest Market Value (Euros)']"
   ]
  },
  {
   "cell_type": "code",
   "execution_count": 117,
   "metadata": {},
   "outputs": [
    {
     "data": {
      "text/plain": [
       "19.099009900990097"
      ]
     },
     "execution_count": 117,
     "metadata": {},
     "output_type": "execute_result"
    }
   ],
   "source": [
    "filtered_df[filtered_df['Highest Market Value (Euros)'].isna()]['Age'].mean()"
   ]
  },
  {
   "cell_type": "markdown",
   "metadata": {},
   "source": [
    "As we can see, mean age of the players who have their highest market value missing is very young. We can assume that these players are still growing and yet don't have that value. \n",
    "We can set the market value of these players as the highest market value. both of these columns correlate 96% "
   ]
  },
  {
   "cell_type": "code",
   "execution_count": 118,
   "metadata": {},
   "outputs": [],
   "source": [
    "filtered_df['Highest Market Value (Euros)'] = filtered_df.apply(lambda col : col['Market Value (Euros)'] if np.isnan(col['Highest Market Value (Euros)']) else col['Highest Market Value (Euros)'], axis=1)"
   ]
  },
  {
   "cell_type": "code",
   "execution_count": 119,
   "metadata": {},
   "outputs": [
    {
     "data": {
      "text/plain": [
       "PlayerName                             0\n",
       "Affiliation                            0\n",
       "League                                 0\n",
       "Birth Date                             0\n",
       "Age                                    0\n",
       "Height (meters)                        0\n",
       "Position                               0\n",
       "Foot                                   0\n",
       "nationality                            0\n",
       "Games Played                           0\n",
       "Market Value (Euros)                   0\n",
       "Accumulated Transfer Sums (Euros)      0\n",
       "Highest Market Value (Euros)           0\n",
       "Highest Market Value Date            101\n",
       "NationalTeamCaps                       0\n",
       "ContractExpYear                        0\n",
       "dtype: int64"
      ]
     },
     "execution_count": 119,
     "metadata": {},
     "output_type": "execute_result"
    }
   ],
   "source": [
    "filtered_df.isnull().sum()"
   ]
  },
  {
   "cell_type": "code",
   "execution_count": 120,
   "metadata": {},
   "outputs": [],
   "source": [
    "#We will be dropping Highest Market Value(Date) as it is of no use to us to determine market value of a player\n",
    "filtered_df= filtered_df.drop('Highest Market Value Date', axis=1)"
   ]
  },
  {
   "cell_type": "code",
   "execution_count": 121,
   "metadata": {},
   "outputs": [
    {
     "data": {
      "text/plain": [
       "PlayerName                           0\n",
       "Affiliation                          0\n",
       "League                               0\n",
       "Birth Date                           0\n",
       "Age                                  0\n",
       "Height (meters)                      0\n",
       "Position                             0\n",
       "Foot                                 0\n",
       "nationality                          0\n",
       "Games Played                         0\n",
       "Market Value (Euros)                 0\n",
       "Accumulated Transfer Sums (Euros)    0\n",
       "Highest Market Value (Euros)         0\n",
       "NationalTeamCaps                     0\n",
       "ContractExpYear                      0\n",
       "dtype: int64"
      ]
     },
     "execution_count": 121,
     "metadata": {},
     "output_type": "execute_result"
    }
   ],
   "source": [
    "filtered_df.isnull().sum()"
   ]
  },
  {
   "cell_type": "markdown",
   "metadata": {},
   "source": [
    "# Data is cleaned now. It is time to create dummy values of categorical features so that our model can use them"
   ]
  },
  {
   "cell_type": "code",
   "execution_count": 122,
   "metadata": {},
   "outputs": [
    {
     "data": {
      "text/plain": [
       "Index(['PlayerName', 'Affiliation', 'League', 'Birth Date', 'Position', 'Foot',\n",
       "       'nationality'],\n",
       "      dtype='object')"
      ]
     },
     "execution_count": 122,
     "metadata": {},
     "output_type": "execute_result"
    }
   ],
   "source": [
    "filtered_df.select_dtypes(include='object').columns"
   ]
  },
  {
   "cell_type": "markdown",
   "metadata": {},
   "source": [
    "We can remove Player name,birth date, nationality as it is again not a criteria that will be required be determine the value of a player  "
   ]
  },
  {
   "cell_type": "code",
   "execution_count": 123,
   "metadata": {},
   "outputs": [],
   "source": [
    "filtered_df = filtered_df.drop(['PlayerName', 'Birth Date', 'nationality'], axis=1)"
   ]
  },
  {
   "cell_type": "markdown",
   "metadata": {},
   "source": [
    "**Let's now go through all the string features to see what we should do with them.**"
   ]
  },
  {
   "cell_type": "code",
   "execution_count": 124,
   "metadata": {},
   "outputs": [],
   "source": [
    "affiliation = pd.get_dummies(filtered_df['Affiliation'], drop_first=True)"
   ]
  },
  {
   "cell_type": "code",
   "execution_count": 125,
   "metadata": {},
   "outputs": [],
   "source": [
    "league = pd.get_dummies(filtered_df['League'], drop_first=True)"
   ]
  },
  {
   "cell_type": "code",
   "execution_count": 126,
   "metadata": {},
   "outputs": [],
   "source": [
    "position = pd.get_dummies(filtered_df['Position'], drop_first=True)"
   ]
  },
  {
   "cell_type": "code",
   "execution_count": 127,
   "metadata": {},
   "outputs": [],
   "source": [
    "foot = pd.get_dummies(filtered_df['Foot'], drop_first=True)"
   ]
  },
  {
   "cell_type": "code",
   "execution_count": 128,
   "metadata": {},
   "outputs": [],
   "source": [
    "filtered_df = pd.concat([filtered_df, affiliation, league, position,foot], axis=1)"
   ]
  },
  {
   "cell_type": "code",
   "execution_count": 129,
   "metadata": {},
   "outputs": [],
   "source": [
    "#Now we will drop these features as we have converted them into dummy variables\n",
    "filtered_df = filtered_df.drop(['Affiliation', 'League', 'Position','Foot'], axis=1)"
   ]
  },
  {
   "cell_type": "code",
   "execution_count": 130,
   "metadata": {},
   "outputs": [
    {
     "data": {
      "text/plain": [
       "Index([], dtype='object')"
      ]
     },
     "execution_count": 130,
     "metadata": {},
     "output_type": "execute_result"
    }
   ],
   "source": [
    "#Checking string values again\n",
    "filtered_df.select_dtypes(include='object').columns"
   ]
  },
  {
   "cell_type": "code",
   "execution_count": 131,
   "metadata": {},
   "outputs": [
    {
     "data": {
      "text/html": [
       "<div>\n",
       "<style scoped>\n",
       "    .dataframe tbody tr th:only-of-type {\n",
       "        vertical-align: middle;\n",
       "    }\n",
       "\n",
       "    .dataframe tbody tr th {\n",
       "        vertical-align: top;\n",
       "    }\n",
       "\n",
       "    .dataframe thead th {\n",
       "        text-align: right;\n",
       "    }\n",
       "</style>\n",
       "<table border=\"1\" class=\"dataframe\">\n",
       "  <thead>\n",
       "    <tr style=\"text-align: right;\">\n",
       "      <th></th>\n",
       "      <th>Age</th>\n",
       "      <th>Height (meters)</th>\n",
       "      <th>Games Played</th>\n",
       "      <th>Market Value (Euros)</th>\n",
       "      <th>Accumulated Transfer Sums (Euros)</th>\n",
       "      <th>Highest Market Value (Euros)</th>\n",
       "      <th>NationalTeamCaps</th>\n",
       "      <th>ContractExpYear</th>\n",
       "      <th>1.FSV Mainz 05</th>\n",
       "      <th>AC Milan</th>\n",
       "      <th>...</th>\n",
       "      <th>Wolves</th>\n",
       "      <th>LaLiga</th>\n",
       "      <th>Ligue 1</th>\n",
       "      <th>Premier League</th>\n",
       "      <th>Serie A</th>\n",
       "      <th>Forward</th>\n",
       "      <th>Goalkeeper</th>\n",
       "      <th>Midfielder</th>\n",
       "      <th>left</th>\n",
       "      <th>right</th>\n",
       "    </tr>\n",
       "  </thead>\n",
       "  <tbody>\n",
       "    <tr>\n",
       "      <th>0</th>\n",
       "      <td>31</td>\n",
       "      <td>1.87</td>\n",
       "      <td>1</td>\n",
       "      <td>7000000.0</td>\n",
       "      <td>45700000</td>\n",
       "      <td>20000000.0</td>\n",
       "      <td>16</td>\n",
       "      <td>2023.0</td>\n",
       "      <td>0</td>\n",
       "      <td>0</td>\n",
       "      <td>...</td>\n",
       "      <td>0</td>\n",
       "      <td>0</td>\n",
       "      <td>0</td>\n",
       "      <td>0</td>\n",
       "      <td>0</td>\n",
       "      <td>1</td>\n",
       "      <td>0</td>\n",
       "      <td>0</td>\n",
       "      <td>0</td>\n",
       "      <td>1</td>\n",
       "    </tr>\n",
       "    <tr>\n",
       "      <th>1</th>\n",
       "      <td>25</td>\n",
       "      <td>1.82</td>\n",
       "      <td>0</td>\n",
       "      <td>1000000.0</td>\n",
       "      <td>1000000</td>\n",
       "      <td>1750000.0</td>\n",
       "      <td>11</td>\n",
       "      <td>2022.0</td>\n",
       "      <td>0</td>\n",
       "      <td>0</td>\n",
       "      <td>...</td>\n",
       "      <td>0</td>\n",
       "      <td>0</td>\n",
       "      <td>0</td>\n",
       "      <td>0</td>\n",
       "      <td>0</td>\n",
       "      <td>0</td>\n",
       "      <td>0</td>\n",
       "      <td>0</td>\n",
       "      <td>0</td>\n",
       "      <td>1</td>\n",
       "    </tr>\n",
       "    <tr>\n",
       "      <th>2</th>\n",
       "      <td>25</td>\n",
       "      <td>1.75</td>\n",
       "      <td>0</td>\n",
       "      <td>4000000.0</td>\n",
       "      <td>4850000</td>\n",
       "      <td>4000000.0</td>\n",
       "      <td>1</td>\n",
       "      <td>2023.0</td>\n",
       "      <td>0</td>\n",
       "      <td>0</td>\n",
       "      <td>...</td>\n",
       "      <td>0</td>\n",
       "      <td>0</td>\n",
       "      <td>0</td>\n",
       "      <td>0</td>\n",
       "      <td>0</td>\n",
       "      <td>0</td>\n",
       "      <td>0</td>\n",
       "      <td>1</td>\n",
       "      <td>0</td>\n",
       "      <td>1</td>\n",
       "    </tr>\n",
       "    <tr>\n",
       "      <th>3</th>\n",
       "      <td>20</td>\n",
       "      <td>1.87</td>\n",
       "      <td>14</td>\n",
       "      <td>100000.0</td>\n",
       "      <td>0</td>\n",
       "      <td>100000.0</td>\n",
       "      <td>0</td>\n",
       "      <td>2021.0</td>\n",
       "      <td>0</td>\n",
       "      <td>0</td>\n",
       "      <td>...</td>\n",
       "      <td>0</td>\n",
       "      <td>0</td>\n",
       "      <td>0</td>\n",
       "      <td>0</td>\n",
       "      <td>0</td>\n",
       "      <td>0</td>\n",
       "      <td>1</td>\n",
       "      <td>0</td>\n",
       "      <td>0</td>\n",
       "      <td>1</td>\n",
       "    </tr>\n",
       "    <tr>\n",
       "      <th>4</th>\n",
       "      <td>28</td>\n",
       "      <td>1.79</td>\n",
       "      <td>15</td>\n",
       "      <td>1750000.0</td>\n",
       "      <td>7950000</td>\n",
       "      <td>3500000.0</td>\n",
       "      <td>5</td>\n",
       "      <td>2021.0</td>\n",
       "      <td>0</td>\n",
       "      <td>0</td>\n",
       "      <td>...</td>\n",
       "      <td>0</td>\n",
       "      <td>0</td>\n",
       "      <td>0</td>\n",
       "      <td>0</td>\n",
       "      <td>0</td>\n",
       "      <td>0</td>\n",
       "      <td>0</td>\n",
       "      <td>1</td>\n",
       "      <td>0</td>\n",
       "      <td>1</td>\n",
       "    </tr>\n",
       "  </tbody>\n",
       "</table>\n",
       "<p>5 rows × 114 columns</p>\n",
       "</div>"
      ],
      "text/plain": [
       "   Age  Height (meters)  Games Played  Market Value (Euros)  \\\n",
       "0   31             1.87             1             7000000.0   \n",
       "1   25             1.82             0             1000000.0   \n",
       "2   25             1.75             0             4000000.0   \n",
       "3   20             1.87            14              100000.0   \n",
       "4   28             1.79            15             1750000.0   \n",
       "\n",
       "   Accumulated Transfer Sums (Euros)  Highest Market Value (Euros)  \\\n",
       "0                           45700000                    20000000.0   \n",
       "1                            1000000                     1750000.0   \n",
       "2                            4850000                     4000000.0   \n",
       "3                                  0                      100000.0   \n",
       "4                            7950000                     3500000.0   \n",
       "\n",
       "   NationalTeamCaps  ContractExpYear  1.FSV Mainz 05  AC Milan  ...  Wolves  \\\n",
       "0                16           2023.0               0         0  ...       0   \n",
       "1                11           2022.0               0         0  ...       0   \n",
       "2                 1           2023.0               0         0  ...       0   \n",
       "3                 0           2021.0               0         0  ...       0   \n",
       "4                 5           2021.0               0         0  ...       0   \n",
       "\n",
       "   LaLiga  Ligue 1  Premier League  Serie A  Forward   Goalkeeper  \\\n",
       "0       0        0               0        0         1           0   \n",
       "1       0        0               0        0         0           0   \n",
       "2       0        0               0        0         0           0   \n",
       "3       0        0               0        0         0           1   \n",
       "4       0        0               0        0         0           0   \n",
       "\n",
       "   Midfielder   left  right  \n",
       "0            0     0      1  \n",
       "1            0     0      1  \n",
       "2            1     0      1  \n",
       "3            0     0      1  \n",
       "4            1     0      1  \n",
       "\n",
       "[5 rows x 114 columns]"
      ]
     },
     "execution_count": 131,
     "metadata": {},
     "output_type": "execute_result"
    }
   ],
   "source": [
    "#Let's take a look at our data now\n",
    "filtered_df.head()"
   ]
  },
  {
   "cell_type": "code",
   "execution_count": 132,
   "metadata": {},
   "outputs": [
    {
     "data": {
      "text/plain": [
       "Index(['Age', 'Height (meters)', 'Games Played', 'Market Value (Euros)',\n",
       "       'Accumulated Transfer Sums (Euros)', 'Highest Market Value (Euros)',\n",
       "       'NationalTeamCaps', 'ContractExpYear', '1.FSV Mainz 05', 'AC Milan',\n",
       "       ...\n",
       "       'Wolves', 'LaLiga', 'Ligue 1', 'Premier League', 'Serie A', 'Forward ',\n",
       "       'Goalkeeper', 'Midfielder ', 'left', 'right'],\n",
       "      dtype='object', length=114)"
      ]
     },
     "execution_count": 132,
     "metadata": {},
     "output_type": "execute_result"
    }
   ],
   "source": [
    "filtered_df.columns"
   ]
  },
  {
   "cell_type": "markdown",
   "metadata": {},
   "source": [
    "# Train Test Split"
   ]
  },
  {
   "cell_type": "code",
   "execution_count": 133,
   "metadata": {},
   "outputs": [],
   "source": [
    "from sklearn.model_selection import train_test_split"
   ]
  },
  {
   "cell_type": "code",
   "execution_count": 134,
   "metadata": {},
   "outputs": [],
   "source": [
    "X= filtered_df.drop('Market Value (Euros)', axis=1)\n",
    "y= filtered_df['Market Value (Euros)']\n",
    "X_train, X_test, y_train, y_test = train_test_split(X, y, test_size=0.3, random_state=101)"
   ]
  },
  {
   "cell_type": "markdown",
   "metadata": {},
   "source": [
    "Using Linear Regression"
   ]
  },
  {
   "cell_type": "code",
   "execution_count": 135,
   "metadata": {},
   "outputs": [],
   "source": [
    "from sklearn.linear_model import LinearRegression\n",
    "lm = LinearRegression()"
   ]
  },
  {
   "cell_type": "code",
   "execution_count": 136,
   "metadata": {},
   "outputs": [
    {
     "data": {
      "text/plain": [
       "LinearRegression()"
      ]
     },
     "execution_count": 136,
     "metadata": {},
     "output_type": "execute_result"
    }
   ],
   "source": [
    "lm.fit(X_train, y_train)"
   ]
  },
  {
   "cell_type": "code",
   "execution_count": 137,
   "metadata": {},
   "outputs": [
    {
     "data": {
      "text/plain": [
       "array([-1.25415334e+11, -1.25414754e+11, -1.25414594e+11, -1.25414503e+11,\n",
       "       -1.25414475e+11, -1.25414348e+11, -1.25414122e+11, -1.25414046e+11,\n",
       "       -1.25414012e+11, -1.25414006e+11, -1.25413885e+11, -1.25413827e+11,\n",
       "       -1.25413696e+11, -1.25413621e+11, -1.25413412e+11, -1.25413357e+11,\n",
       "       -1.25413094e+11, -1.25412928e+11, -1.25412745e+11, -1.25411710e+11,\n",
       "       -5.21650716e+10, -2.81161634e+10, -2.54398169e+10, -2.54389881e+10,\n",
       "       -2.54375879e+10, -2.54368813e+10, -2.54368213e+10, -2.54366109e+10,\n",
       "       -2.54365868e+10, -2.54365698e+10, -2.54363486e+10, -2.54360677e+10,\n",
       "       -2.54358839e+10, -2.54358402e+10, -2.54355770e+10, -2.54354458e+10,\n",
       "       -2.54350792e+10, -2.54350349e+10, -2.54349729e+10, -2.54349103e+10,\n",
       "       -2.54344960e+10, -2.54341862e+10, -2.31839360e+06, -2.30569842e+06,\n",
       "       -2.29422229e+06, -2.00017222e+06, -1.71994489e+06, -1.35694668e+06,\n",
       "       -1.33156760e+06, -1.23411891e+06, -1.15548887e+06, -1.13697344e+06,\n",
       "       -1.00081129e+06, -9.83924898e+05, -9.29998863e+05, -9.20005826e+05,\n",
       "       -9.06933651e+05, -8.21115616e+05, -1.84573132e+04, -9.47204130e-01,\n",
       "        8.01792834e-02,  5.07618624e+03,  4.94427252e+04,  8.16221248e+04,\n",
       "        2.14445572e+05,  2.88699140e+05,  3.31538604e+05,  4.04197935e+05,\n",
       "        4.12668620e+05,  4.26060323e+05,  4.54583240e+05,  2.54334461e+10,\n",
       "        2.81137590e+10,  2.81138800e+10,  2.81147212e+10,  2.81147222e+10,\n",
       "        2.81148340e+10,  2.81148690e+10,  2.81149397e+10,  2.81150003e+10,\n",
       "        2.81152018e+10,  2.81153443e+10,  2.81153510e+10,  2.81153659e+10,\n",
       "        2.81153770e+10,  2.81154370e+10,  2.81159018e+10,  2.81162573e+10,\n",
       "        2.81163497e+10,  2.81165422e+10,  2.81194668e+10,  2.81198623e+10,\n",
       "        5.21630669e+10,  5.21631226e+10,  5.21637220e+10,  5.21638509e+10,\n",
       "        5.21639356e+10,  5.21639489e+10,  5.21639611e+10,  5.21639808e+10,\n",
       "        5.21640039e+10,  5.21640867e+10,  5.21641207e+10,  5.21641337e+10,\n",
       "        5.21642038e+10,  5.21643836e+10,  5.21644136e+10,  5.21645975e+10,\n",
       "        5.21647006e+10,  5.21649558e+10,  5.21650179e+10,  5.21668386e+10,\n",
       "        1.25412841e+11])"
      ]
     },
     "execution_count": 137,
     "metadata": {},
     "output_type": "execute_result"
    }
   ],
   "source": [
    "np.sort(-lm.coef_)"
   ]
  },
  {
   "cell_type": "markdown",
   "metadata": {},
   "source": [
    "## Predicting Test Data\n",
    "Now that we have fit our model, let's evaluate its performance by predicting off the test values!"
   ]
  },
  {
   "cell_type": "code",
   "execution_count": 138,
   "metadata": {},
   "outputs": [],
   "source": [
    "predictions = lm.predict(X_test)"
   ]
  },
  {
   "cell_type": "markdown",
   "metadata": {},
   "source": [
    "**Create a scatterplot of the real test values versus the predicted values.**"
   ]
  },
  {
   "cell_type": "code",
   "execution_count": 139,
   "metadata": {},
   "outputs": [
    {
     "data": {
      "text/plain": [
       "<AxesSubplot:xlabel='Market Value (Euros)'>"
      ]
     },
     "execution_count": 139,
     "metadata": {},
     "output_type": "execute_result"
    },
    {
     "data": {
      "image/png": "[encoded data removed]",
      "text/plain": [
       "<Figure size 432x288 with 1 Axes>"
      ]
     },
     "metadata": {
      "needs_background": "light"
     },
     "output_type": "display_data"
    }
   ],
   "source": [
    "sns.scatterplot(x=y_test, y =predictions)"
   ]
  },
  {
   "cell_type": "markdown",
   "metadata": {},
   "source": [
    "## Evaluating the Model\n",
    "\n",
    "Let's evaluate our model performance by calculating the residual sum of squares and the explained variance score "
   ]
  },
  {
   "cell_type": "code",
   "execution_count": 140,
   "metadata": {},
   "outputs": [
    {
     "data": {
      "text/plain": [
       "0.9387397554044602"
      ]
     },
     "execution_count": 140,
     "metadata": {},
     "output_type": "execute_result"
    }
   ],
   "source": [
    "from sklearn import metrics\n",
    "metrics.explained_variance_score(y_test, predictions)"
   ]
  },
  {
   "cell_type": "code",
   "execution_count": 141,
   "metadata": {},
   "outputs": [
    {
     "name": "stdout",
     "output_type": "stream",
     "text": [
      "MAE: 2667967.517720604\n",
      "MSE: 20234372540114.457\n",
      "RMSE: 4498263.280435513\n"
     ]
    }
   ],
   "source": [
    "MAE= metrics.mean_absolute_error(y_test, predictions)\n",
    "MSE= metrics.mean_squared_error(y_test, predictions)\n",
    "RMSE= np.sqrt(metrics.mean_squared_error(y_test, predictions))\n",
    "print(\"MAE: {}\".format(MAE))\n",
    "print(\"MSE: {}\".format(MSE))\n",
    "print(\"RMSE: {}\".format(RMSE))"
   ]
  },
  {
   "cell_type": "markdown",
   "metadata": {},
   "source": [
    "## Residuals\n",
    "\n",
    "We should have gotten a very good model with a good fit. Let's quickly explore the residuals to make sure everything was okay with our data. "
   ]
  },
  {
   "cell_type": "code",
   "execution_count": 142,
   "metadata": {
    "scrolled": true
   },
   "outputs": [
    {
     "data": {
      "text/plain": [
       "<seaborn.axisgrid.FacetGrid at 0x7fd07a831520>"
      ]
     },
     "execution_count": 142,
     "metadata": {},
     "output_type": "execute_result"
    },
    {
     "data": {
      "image/png": "[encoded data removed]",
      "text/plain": [
       "<Figure size 360x360 with 1 Axes>"
      ]
     },
     "metadata": {
      "needs_background": "light"
     },
     "output_type": "display_data"
    }
   ],
   "source": [
    "sns.displot((y_test-predictions),kde=True, bins=50)"
   ]
  },
  {
   "cell_type": "code",
   "execution_count": 143,
   "metadata": {
    "scrolled": false
   },
   "outputs": [
    {
     "data": {
      "text/html": [
       "<div>\n",
       "<style scoped>\n",
       "    .dataframe tbody tr th:only-of-type {\n",
       "        vertical-align: middle;\n",
       "    }\n",
       "\n",
       "    .dataframe tbody tr th {\n",
       "        vertical-align: top;\n",
       "    }\n",
       "\n",
       "    .dataframe thead th {\n",
       "        text-align: right;\n",
       "    }\n",
       "</style>\n",
       "<table border=\"1\" class=\"dataframe\">\n",
       "  <thead>\n",
       "    <tr style=\"text-align: right;\">\n",
       "      <th></th>\n",
       "      <th>Coeff</th>\n",
       "    </tr>\n",
       "  </thead>\n",
       "  <tbody>\n",
       "    <tr>\n",
       "      <th>Age</th>\n",
       "      <td>1.254153e+11</td>\n",
       "    </tr>\n",
       "    <tr>\n",
       "      <th>Height (meters)</th>\n",
       "      <td>1.254148e+11</td>\n",
       "    </tr>\n",
       "    <tr>\n",
       "      <th>Games Played</th>\n",
       "      <td>1.254146e+11</td>\n",
       "    </tr>\n",
       "    <tr>\n",
       "      <th>Accumulated Transfer Sums (Euros)</th>\n",
       "      <td>1.254145e+11</td>\n",
       "    </tr>\n",
       "    <tr>\n",
       "      <th>Highest Market Value (Euros)</th>\n",
       "      <td>1.254145e+11</td>\n",
       "    </tr>\n",
       "    <tr>\n",
       "      <th>NationalTeamCaps</th>\n",
       "      <td>1.254143e+11</td>\n",
       "    </tr>\n",
       "    <tr>\n",
       "      <th>ContractExpYear</th>\n",
       "      <td>1.254141e+11</td>\n",
       "    </tr>\n",
       "    <tr>\n",
       "      <th>1.FSV Mainz 05</th>\n",
       "      <td>1.254140e+11</td>\n",
       "    </tr>\n",
       "    <tr>\n",
       "      <th>AC Milan</th>\n",
       "      <td>1.254140e+11</td>\n",
       "    </tr>\n",
       "    <tr>\n",
       "      <th>AS Roma</th>\n",
       "      <td>1.254140e+11</td>\n",
       "    </tr>\n",
       "    <tr>\n",
       "      <th>Alaves</th>\n",
       "      <td>1.254139e+11</td>\n",
       "    </tr>\n",
       "    <tr>\n",
       "      <th>Arsenal</th>\n",
       "      <td>1.254138e+11</td>\n",
       "    </tr>\n",
       "    <tr>\n",
       "      <th>Aston Villa</th>\n",
       "      <td>1.254137e+11</td>\n",
       "    </tr>\n",
       "    <tr>\n",
       "      <th>Atalanta</th>\n",
       "      <td>1.254136e+11</td>\n",
       "    </tr>\n",
       "    <tr>\n",
       "      <th>Athletic</th>\n",
       "      <td>1.254134e+11</td>\n",
       "    </tr>\n",
       "    <tr>\n",
       "      <th>Atletico Madrid</th>\n",
       "      <td>1.254134e+11</td>\n",
       "    </tr>\n",
       "    <tr>\n",
       "      <th>Bay. Leverkusen</th>\n",
       "      <td>1.254131e+11</td>\n",
       "    </tr>\n",
       "    <tr>\n",
       "      <th>Bayern Munich</th>\n",
       "      <td>1.254129e+11</td>\n",
       "    </tr>\n",
       "    <tr>\n",
       "      <th>Bologna</th>\n",
       "      <td>1.254127e+11</td>\n",
       "    </tr>\n",
       "    <tr>\n",
       "      <th>Bor. Dortmund</th>\n",
       "      <td>1.254117e+11</td>\n",
       "    </tr>\n",
       "    <tr>\n",
       "      <th>Bor. M'gladbach</th>\n",
       "      <td>5.216507e+10</td>\n",
       "    </tr>\n",
       "    <tr>\n",
       "      <th>Bournemouth</th>\n",
       "      <td>2.811616e+10</td>\n",
       "    </tr>\n",
       "    <tr>\n",
       "      <th>Brescia</th>\n",
       "      <td>2.543982e+10</td>\n",
       "    </tr>\n",
       "    <tr>\n",
       "      <th>Brighton</th>\n",
       "      <td>2.543899e+10</td>\n",
       "    </tr>\n",
       "    <tr>\n",
       "      <th>Burnley</th>\n",
       "      <td>2.543759e+10</td>\n",
       "    </tr>\n",
       "    <tr>\n",
       "      <th>CA Osasuna</th>\n",
       "      <td>2.543688e+10</td>\n",
       "    </tr>\n",
       "    <tr>\n",
       "      <th>CD Leganes</th>\n",
       "      <td>2.543682e+10</td>\n",
       "    </tr>\n",
       "    <tr>\n",
       "      <th>Cagliari Calcio</th>\n",
       "      <td>2.543661e+10</td>\n",
       "    </tr>\n",
       "    <tr>\n",
       "      <th>Celta de Vigo</th>\n",
       "      <td>2.543659e+10</td>\n",
       "    </tr>\n",
       "    <tr>\n",
       "      <th>Chelsea</th>\n",
       "      <td>2.543657e+10</td>\n",
       "    </tr>\n",
       "    <tr>\n",
       "      <th>Crystal Palace</th>\n",
       "      <td>2.543635e+10</td>\n",
       "    </tr>\n",
       "    <tr>\n",
       "      <th>Dijon</th>\n",
       "      <td>2.543607e+10</td>\n",
       "    </tr>\n",
       "    <tr>\n",
       "      <th>E. Frankfurt</th>\n",
       "      <td>2.543588e+10</td>\n",
       "    </tr>\n",
       "    <tr>\n",
       "      <th>Espanyol</th>\n",
       "      <td>2.543584e+10</td>\n",
       "    </tr>\n",
       "    <tr>\n",
       "      <th>Everton</th>\n",
       "      <td>2.543558e+10</td>\n",
       "    </tr>\n",
       "    <tr>\n",
       "      <th>F. Dusseldorf</th>\n",
       "      <td>2.543545e+10</td>\n",
       "    </tr>\n",
       "    <tr>\n",
       "      <th>FC Augsburg</th>\n",
       "      <td>2.543508e+10</td>\n",
       "    </tr>\n",
       "    <tr>\n",
       "      <th>FC Barcelona</th>\n",
       "      <td>2.543503e+10</td>\n",
       "    </tr>\n",
       "    <tr>\n",
       "      <th>FC Metz</th>\n",
       "      <td>2.543497e+10</td>\n",
       "    </tr>\n",
       "    <tr>\n",
       "      <th>FC Nantes</th>\n",
       "      <td>2.543491e+10</td>\n",
       "    </tr>\n",
       "    <tr>\n",
       "      <th>FC Schalke 04</th>\n",
       "      <td>2.543450e+10</td>\n",
       "    </tr>\n",
       "    <tr>\n",
       "      <th>Fiorentina</th>\n",
       "      <td>2.543419e+10</td>\n",
       "    </tr>\n",
       "    <tr>\n",
       "      <th>G. Bordeaux</th>\n",
       "      <td>2.318394e+06</td>\n",
       "    </tr>\n",
       "    <tr>\n",
       "      <th>Genoa</th>\n",
       "      <td>2.305698e+06</td>\n",
       "    </tr>\n",
       "    <tr>\n",
       "      <th>Getafe</th>\n",
       "      <td>2.294222e+06</td>\n",
       "    </tr>\n",
       "    <tr>\n",
       "      <th>Granada CF</th>\n",
       "      <td>2.000172e+06</td>\n",
       "    </tr>\n",
       "    <tr>\n",
       "      <th>Hellas Verona</th>\n",
       "      <td>1.719945e+06</td>\n",
       "    </tr>\n",
       "    <tr>\n",
       "      <th>Hertha BSC</th>\n",
       "      <td>1.356947e+06</td>\n",
       "    </tr>\n",
       "    <tr>\n",
       "      <th>Inter</th>\n",
       "      <td>1.331568e+06</td>\n",
       "    </tr>\n",
       "    <tr>\n",
       "      <th>Juventus</th>\n",
       "      <td>1.234119e+06</td>\n",
       "    </tr>\n",
       "    <tr>\n",
       "      <th>LOSC Lille</th>\n",
       "      <td>1.155489e+06</td>\n",
       "    </tr>\n",
       "    <tr>\n",
       "      <th>Lazio</th>\n",
       "      <td>1.136973e+06</td>\n",
       "    </tr>\n",
       "    <tr>\n",
       "      <th>Lecce</th>\n",
       "      <td>1.000811e+06</td>\n",
       "    </tr>\n",
       "    <tr>\n",
       "      <th>Leicester</th>\n",
       "      <td>9.839249e+05</td>\n",
       "    </tr>\n",
       "    <tr>\n",
       "      <th>Levante</th>\n",
       "      <td>9.299989e+05</td>\n",
       "    </tr>\n",
       "    <tr>\n",
       "      <th>Liverpool</th>\n",
       "      <td>9.200058e+05</td>\n",
       "    </tr>\n",
       "    <tr>\n",
       "      <th>Man City</th>\n",
       "      <td>9.069337e+05</td>\n",
       "    </tr>\n",
       "    <tr>\n",
       "      <th>Man Utd</th>\n",
       "      <td>8.211156e+05</td>\n",
       "    </tr>\n",
       "    <tr>\n",
       "      <th>Marseille</th>\n",
       "      <td>1.845731e+04</td>\n",
       "    </tr>\n",
       "    <tr>\n",
       "      <th>Monaco</th>\n",
       "      <td>9.472041e-01</td>\n",
       "    </tr>\n",
       "    <tr>\n",
       "      <th>Montpellier</th>\n",
       "      <td>-8.017928e-02</td>\n",
       "    </tr>\n",
       "    <tr>\n",
       "      <th>Newcastle</th>\n",
       "      <td>-5.076186e+03</td>\n",
       "    </tr>\n",
       "    <tr>\n",
       "      <th>Nimes Olympique</th>\n",
       "      <td>-4.944273e+04</td>\n",
       "    </tr>\n",
       "    <tr>\n",
       "      <th>Norwich</th>\n",
       "      <td>-8.162212e+04</td>\n",
       "    </tr>\n",
       "    <tr>\n",
       "      <th>OGC Nice</th>\n",
       "      <td>-2.144456e+05</td>\n",
       "    </tr>\n",
       "    <tr>\n",
       "      <th>Olympique Lyon</th>\n",
       "      <td>-2.886991e+05</td>\n",
       "    </tr>\n",
       "    <tr>\n",
       "      <th>Paris SG</th>\n",
       "      <td>-3.315386e+05</td>\n",
       "    </tr>\n",
       "    <tr>\n",
       "      <th>Parma</th>\n",
       "      <td>-4.041979e+05</td>\n",
       "    </tr>\n",
       "    <tr>\n",
       "      <th>R. Strasbourg</th>\n",
       "      <td>-4.126686e+05</td>\n",
       "    </tr>\n",
       "    <tr>\n",
       "      <th>RB Leipzig</th>\n",
       "      <td>-4.260603e+05</td>\n",
       "    </tr>\n",
       "    <tr>\n",
       "      <th>RCD Mallorca</th>\n",
       "      <td>-4.545832e+05</td>\n",
       "    </tr>\n",
       "    <tr>\n",
       "      <th>Real Betis</th>\n",
       "      <td>-2.543345e+10</td>\n",
       "    </tr>\n",
       "    <tr>\n",
       "      <th>Real Madrid</th>\n",
       "      <td>-2.811376e+10</td>\n",
       "    </tr>\n",
       "    <tr>\n",
       "      <th>Real Sociedad</th>\n",
       "      <td>-2.811388e+10</td>\n",
       "    </tr>\n",
       "    <tr>\n",
       "      <th>Real Valladolid</th>\n",
       "      <td>-2.811472e+10</td>\n",
       "    </tr>\n",
       "    <tr>\n",
       "      <th>Reims</th>\n",
       "      <td>-2.811472e+10</td>\n",
       "    </tr>\n",
       "    <tr>\n",
       "      <th>SC Amiens</th>\n",
       "      <td>-2.811483e+10</td>\n",
       "    </tr>\n",
       "    <tr>\n",
       "      <th>SC Freiburg</th>\n",
       "      <td>-2.811487e+10</td>\n",
       "    </tr>\n",
       "    <tr>\n",
       "      <th>SC Paderborn</th>\n",
       "      <td>-2.811494e+10</td>\n",
       "    </tr>\n",
       "    <tr>\n",
       "      <th>SCO Angers</th>\n",
       "      <td>-2.811500e+10</td>\n",
       "    </tr>\n",
       "    <tr>\n",
       "      <th>SD Eibar</th>\n",
       "      <td>-2.811520e+10</td>\n",
       "    </tr>\n",
       "    <tr>\n",
       "      <th>SPAL</th>\n",
       "      <td>-2.811534e+10</td>\n",
       "    </tr>\n",
       "    <tr>\n",
       "      <th>SSC Napoli</th>\n",
       "      <td>-2.811535e+10</td>\n",
       "    </tr>\n",
       "    <tr>\n",
       "      <th>Saint-Etienne</th>\n",
       "      <td>-2.811537e+10</td>\n",
       "    </tr>\n",
       "    <tr>\n",
       "      <th>Sampdoria</th>\n",
       "      <td>-2.811538e+10</td>\n",
       "    </tr>\n",
       "    <tr>\n",
       "      <th>Sassuolo</th>\n",
       "      <td>-2.811544e+10</td>\n",
       "    </tr>\n",
       "    <tr>\n",
       "      <th>Sevilla FC</th>\n",
       "      <td>-2.811590e+10</td>\n",
       "    </tr>\n",
       "    <tr>\n",
       "      <th>Sheffield Utd.</th>\n",
       "      <td>-2.811626e+10</td>\n",
       "    </tr>\n",
       "    <tr>\n",
       "      <th>Southampton</th>\n",
       "      <td>-2.811635e+10</td>\n",
       "    </tr>\n",
       "    <tr>\n",
       "      <th>Spurs</th>\n",
       "      <td>-2.811654e+10</td>\n",
       "    </tr>\n",
       "    <tr>\n",
       "      <th>Stade Brest 29</th>\n",
       "      <td>-2.811947e+10</td>\n",
       "    </tr>\n",
       "    <tr>\n",
       "      <th>Stade Rennais</th>\n",
       "      <td>-2.811986e+10</td>\n",
       "    </tr>\n",
       "    <tr>\n",
       "      <th>TSG Hoffenheim</th>\n",
       "      <td>-5.216307e+10</td>\n",
       "    </tr>\n",
       "    <tr>\n",
       "      <th>Torino</th>\n",
       "      <td>-5.216312e+10</td>\n",
       "    </tr>\n",
       "    <tr>\n",
       "      <th>Toulouse</th>\n",
       "      <td>-5.216372e+10</td>\n",
       "    </tr>\n",
       "    <tr>\n",
       "      <th>Udinese Calcio</th>\n",
       "      <td>-5.216385e+10</td>\n",
       "    </tr>\n",
       "    <tr>\n",
       "      <th>Union Berlin</th>\n",
       "      <td>-5.216394e+10</td>\n",
       "    </tr>\n",
       "    <tr>\n",
       "      <th>Valencia</th>\n",
       "      <td>-5.216395e+10</td>\n",
       "    </tr>\n",
       "    <tr>\n",
       "      <th>VfL Wolfsburg</th>\n",
       "      <td>-5.216396e+10</td>\n",
       "    </tr>\n",
       "    <tr>\n",
       "      <th>Villarreal</th>\n",
       "      <td>-5.216398e+10</td>\n",
       "    </tr>\n",
       "    <tr>\n",
       "      <th>Watford</th>\n",
       "      <td>-5.216400e+10</td>\n",
       "    </tr>\n",
       "    <tr>\n",
       "      <th>Werder Bremen</th>\n",
       "      <td>-5.216409e+10</td>\n",
       "    </tr>\n",
       "    <tr>\n",
       "      <th>West Ham</th>\n",
       "      <td>-5.216412e+10</td>\n",
       "    </tr>\n",
       "    <tr>\n",
       "      <th>Wolves</th>\n",
       "      <td>-5.216413e+10</td>\n",
       "    </tr>\n",
       "    <tr>\n",
       "      <th>LaLiga</th>\n",
       "      <td>-5.216420e+10</td>\n",
       "    </tr>\n",
       "    <tr>\n",
       "      <th>Ligue 1</th>\n",
       "      <td>-5.216438e+10</td>\n",
       "    </tr>\n",
       "    <tr>\n",
       "      <th>Premier League</th>\n",
       "      <td>-5.216441e+10</td>\n",
       "    </tr>\n",
       "    <tr>\n",
       "      <th>Serie A</th>\n",
       "      <td>-5.216460e+10</td>\n",
       "    </tr>\n",
       "    <tr>\n",
       "      <th>Forward</th>\n",
       "      <td>-5.216470e+10</td>\n",
       "    </tr>\n",
       "    <tr>\n",
       "      <th>Goalkeeper</th>\n",
       "      <td>-5.216496e+10</td>\n",
       "    </tr>\n",
       "    <tr>\n",
       "      <th>Midfielder</th>\n",
       "      <td>-5.216502e+10</td>\n",
       "    </tr>\n",
       "    <tr>\n",
       "      <th>left</th>\n",
       "      <td>-5.216684e+10</td>\n",
       "    </tr>\n",
       "    <tr>\n",
       "      <th>right</th>\n",
       "      <td>-1.254128e+11</td>\n",
       "    </tr>\n",
       "  </tbody>\n",
       "</table>\n",
       "</div>"
      ],
      "text/plain": [
       "                                          Coeff\n",
       "Age                                1.254153e+11\n",
       "Height (meters)                    1.254148e+11\n",
       "Games Played                       1.254146e+11\n",
       "Accumulated Transfer Sums (Euros)  1.254145e+11\n",
       "Highest Market Value (Euros)       1.254145e+11\n",
       "NationalTeamCaps                   1.254143e+11\n",
       "ContractExpYear                    1.254141e+11\n",
       "1.FSV Mainz 05                     1.254140e+11\n",
       "AC Milan                           1.254140e+11\n",
       "AS Roma                            1.254140e+11\n",
       "Alaves                             1.254139e+11\n",
       "Arsenal                            1.254138e+11\n",
       "Aston Villa                        1.254137e+11\n",
       "Atalanta                           1.254136e+11\n",
       "Athletic                           1.254134e+11\n",
       "Atletico Madrid                    1.254134e+11\n",
       "Bay. Leverkusen                    1.254131e+11\n",
       "Bayern Munich                      1.254129e+11\n",
       "Bologna                            1.254127e+11\n",
       "Bor. Dortmund                      1.254117e+11\n",
       "Bor. M'gladbach                    5.216507e+10\n",
       "Bournemouth                        2.811616e+10\n",
       "Brescia                            2.543982e+10\n",
       "Brighton                           2.543899e+10\n",
       "Burnley                            2.543759e+10\n",
       "CA Osasuna                         2.543688e+10\n",
       "CD Leganes                         2.543682e+10\n",
       "Cagliari Calcio                    2.543661e+10\n",
       "Celta de Vigo                      2.543659e+10\n",
       "Chelsea                            2.543657e+10\n",
       "Crystal Palace                     2.543635e+10\n",
       "Dijon                              2.543607e+10\n",
       "E. Frankfurt                       2.543588e+10\n",
       "Espanyol                           2.543584e+10\n",
       "Everton                            2.543558e+10\n",
       "F. Dusseldorf                      2.543545e+10\n",
       "FC Augsburg                        2.543508e+10\n",
       "FC Barcelona                       2.543503e+10\n",
       "FC Metz                            2.543497e+10\n",
       "FC Nantes                          2.543491e+10\n",
       "FC Schalke 04                      2.543450e+10\n",
       "Fiorentina                         2.543419e+10\n",
       "G. Bordeaux                        2.318394e+06\n",
       "Genoa                              2.305698e+06\n",
       "Getafe                             2.294222e+06\n",
       "Granada CF                         2.000172e+06\n",
       "Hellas Verona                      1.719945e+06\n",
       "Hertha BSC                         1.356947e+06\n",
       "Inter                              1.331568e+06\n",
       "Juventus                           1.234119e+06\n",
       "LOSC Lille                         1.155489e+06\n",
       "Lazio                              1.136973e+06\n",
       "Lecce                              1.000811e+06\n",
       "Leicester                          9.839249e+05\n",
       "Levante                            9.299989e+05\n",
       "Liverpool                          9.200058e+05\n",
       "Man City                           9.069337e+05\n",
       "Man Utd                            8.211156e+05\n",
       "Marseille                          1.845731e+04\n",
       "Monaco                             9.472041e-01\n",
       "Montpellier                       -8.017928e-02\n",
       "Newcastle                         -5.076186e+03\n",
       "Nimes Olympique                   -4.944273e+04\n",
       "Norwich                           -8.162212e+04\n",
       "OGC Nice                          -2.144456e+05\n",
       "Olympique Lyon                    -2.886991e+05\n",
       "Paris SG                          -3.315386e+05\n",
       "Parma                             -4.041979e+05\n",
       "R. Strasbourg                     -4.126686e+05\n",
       "RB Leipzig                        -4.260603e+05\n",
       "RCD Mallorca                      -4.545832e+05\n",
       "Real Betis                        -2.543345e+10\n",
       "Real Madrid                       -2.811376e+10\n",
       "Real Sociedad                     -2.811388e+10\n",
       "Real Valladolid                   -2.811472e+10\n",
       "Reims                             -2.811472e+10\n",
       "SC Amiens                         -2.811483e+10\n",
       "SC Freiburg                       -2.811487e+10\n",
       "SC Paderborn                      -2.811494e+10\n",
       "SCO Angers                        -2.811500e+10\n",
       "SD Eibar                          -2.811520e+10\n",
       "SPAL                              -2.811534e+10\n",
       "SSC Napoli                        -2.811535e+10\n",
       "Saint-Etienne                     -2.811537e+10\n",
       "Sampdoria                         -2.811538e+10\n",
       "Sassuolo                          -2.811544e+10\n",
       "Sevilla FC                        -2.811590e+10\n",
       "Sheffield Utd.                    -2.811626e+10\n",
       "Southampton                       -2.811635e+10\n",
       "Spurs                             -2.811654e+10\n",
       "Stade Brest 29                    -2.811947e+10\n",
       "Stade Rennais                     -2.811986e+10\n",
       "TSG Hoffenheim                    -5.216307e+10\n",
       "Torino                            -5.216312e+10\n",
       "Toulouse                          -5.216372e+10\n",
       "Udinese Calcio                    -5.216385e+10\n",
       "Union Berlin                      -5.216394e+10\n",
       "Valencia                          -5.216395e+10\n",
       "VfL Wolfsburg                     -5.216396e+10\n",
       "Villarreal                        -5.216398e+10\n",
       "Watford                           -5.216400e+10\n",
       "Werder Bremen                     -5.216409e+10\n",
       "West Ham                          -5.216412e+10\n",
       "Wolves                            -5.216413e+10\n",
       "LaLiga                            -5.216420e+10\n",
       "Ligue 1                           -5.216438e+10\n",
       "Premier League                    -5.216441e+10\n",
       "Serie A                           -5.216460e+10\n",
       "Forward                           -5.216470e+10\n",
       "Goalkeeper                        -5.216496e+10\n",
       "Midfielder                        -5.216502e+10\n",
       "left                              -5.216684e+10\n",
       "right                             -1.254128e+11"
      ]
     },
     "execution_count": 143,
     "metadata": {},
     "output_type": "execute_result"
    }
   ],
   "source": [
    "dfg = pd.DataFrame(-np.sort(-lm.coef_), X.columns, columns=['Coeff']) \n",
    "pd.options.display.max_rows = None\n",
    "dfg"
   ]
  },
  {
   "cell_type": "code",
   "execution_count": null,
   "metadata": {},
   "outputs": [],
   "source": []
  }
 ],
 "metadata": {
  "kernelspec": {
   "display_name": "Python 3",
   "language": "python",
   "name": "python3"
  },
  "language_info": {
   "codemirror_mode": {
    "name": "ipython",
    "version": 3
   },
   "file_extension": ".py",
   "mimetype": "text/x-python",
   "name": "python",
   "nbconvert_exporter": "python",
   "pygments_lexer": "ipython3",
   "version": "3.8.5"
  }
 },
 "nbformat": 4,
 "nbformat_minor": 4
}
